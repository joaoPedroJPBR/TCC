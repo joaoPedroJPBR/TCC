{
 "cells": [
  {
   "cell_type": "code",
   "execution_count": 31,
   "metadata": {},
   "outputs": [],
   "source": [
    "import matplotlib.pyplot as plt\n",
    "import tensorflow as tf\n",
    "import seaborn as sns\n",
    "from tensorflow.keras.models import Sequential\n",
    "from tensorflow.keras.layers import LSTM, Dense, Dropout\n",
    "import pandas as pd\n",
    "from sklearn.model_selection import train_test_split\n",
    "from sklearn.preprocessing import StandardScaler\n",
    "from sklearn.metrics import classification_report, accuracy_score, confusion_matrix, cohen_kappa_score, recall_score, precision_score"
   ]
  },
  {
   "cell_type": "code",
   "execution_count": 32,
   "metadata": {},
   "outputs": [],
   "source": [
    "# Ler o arquivo CSV com as colunas na primeira linha\n",
    "df = pd.read_csv('../data/diabetes_prediction_weka.csv')"
   ]
  },
  {
   "cell_type": "code",
   "execution_count": 33,
   "metadata": {},
   "outputs": [],
   "source": [
    "df = df.drop('gender', axis=1)\n",
    "df = df.drop('smoking_history', axis=1)"
   ]
  },
  {
   "cell_type": "code",
   "execution_count": 34,
   "metadata": {},
   "outputs": [],
   "source": [
    "# Separar as características (features) e a classe (label)\n",
    "X = df.iloc[:, :-1].values  # Todas as colunas exceto a última\n",
    "y = df.iloc[:, -1].values   # Última coluna"
   ]
  },
  {
   "cell_type": "code",
   "execution_count": 35,
   "metadata": {},
   "outputs": [],
   "source": [
    "# Dividir os dados em conjunto de treino e teste\n",
    "X_train, X_test, y_train, y_test = train_test_split(X, y, test_size=0.2, random_state=42)"
   ]
  },
  {
   "cell_type": "code",
   "execution_count": 36,
   "metadata": {},
   "outputs": [],
   "source": [
    "# Normalizar os dados\n",
    "scaler = StandardScaler()\n",
    "X_train = scaler.fit_transform(X_train)\n",
    "X_test = scaler.transform(X_test)"
   ]
  },
  {
   "cell_type": "code",
   "execution_count": 37,
   "metadata": {},
   "outputs": [],
   "source": [
    "# Redimensionar os dados para o formato esperado pelo LSTM (samples, time steps, features)\n",
    "X_train = X_train.reshape((X_train.shape[0], 1, X_train.shape[1]))\n",
    "X_test = X_test.reshape((X_test.shape[0], 1, X_test.shape[1]))"
   ]
  },
  {
   "cell_type": "code",
   "execution_count": 38,
   "metadata": {},
   "outputs": [
    {
     "name": "stderr",
     "output_type": "stream",
     "text": [
      "c:\\Users\\joao\\AppData\\Local\\Programs\\Python\\Python312\\Lib\\site-packages\\keras\\src\\layers\\rnn\\rnn.py:204: UserWarning: Do not pass an `input_shape`/`input_dim` argument to a layer. When using Sequential models, prefer using an `Input(shape)` object as the first layer in the model instead.\n",
      "  super().__init__(**kwargs)\n"
     ]
    }
   ],
   "source": [
    "# Construir o modelo LSTM\n",
    "model = Sequential([\n",
    "    LSTM(50, input_shape=(X_train.shape[1], X_train.shape[2])),\n",
    "    Dropout(0.2),\n",
    "    Dense(1, activation='sigmoid')\n",
    "])"
   ]
  },
  {
   "cell_type": "code",
   "execution_count": 39,
   "metadata": {},
   "outputs": [],
   "source": [
    "# Compilar o modelo\n",
    "model.compile(optimizer='adam', loss='binary_crossentropy', metrics=['accuracy'])"
   ]
  },
  {
   "cell_type": "code",
   "execution_count": 40,
   "metadata": {},
   "outputs": [
    {
     "name": "stdout",
     "output_type": "stream",
     "text": [
      "Epoch 1/100\n"
     ]
    },
    {
     "name": "stdout",
     "output_type": "stream",
     "text": [
      "\u001b[1m4200/4200\u001b[0m \u001b[32m━━━━━━━━━━━━━━━━━━━━\u001b[0m\u001b[37m\u001b[0m \u001b[1m13s\u001b[0m 2ms/step - accuracy: 0.8732 - loss: 0.2963 - val_accuracy: 0.8987 - val_loss: 0.2206\n",
      "Epoch 2/100\n",
      "\u001b[1m4200/4200\u001b[0m \u001b[32m━━━━━━━━━━━━━━━━━━━━\u001b[0m\u001b[37m\u001b[0m \u001b[1m6s\u001b[0m 1ms/step - accuracy: 0.8980 - loss: 0.2171 - val_accuracy: 0.9045 - val_loss: 0.1986\n",
      "Epoch 3/100\n",
      "\u001b[1m4200/4200\u001b[0m \u001b[32m━━━━━━━━━━━━━━━━━━━━\u001b[0m\u001b[37m\u001b[0m \u001b[1m7s\u001b[0m 2ms/step - accuracy: 0.9041 - loss: 0.1992 - val_accuracy: 0.9088 - val_loss: 0.1857\n",
      "Epoch 4/100\n",
      "\u001b[1m4200/4200\u001b[0m \u001b[32m━━━━━━━━━━━━━━━━━━━━\u001b[0m\u001b[37m\u001b[0m \u001b[1m6s\u001b[0m 1ms/step - accuracy: 0.9073 - loss: 0.1882 - val_accuracy: 0.9127 - val_loss: 0.1777\n",
      "Epoch 5/100\n",
      "\u001b[1m4200/4200\u001b[0m \u001b[32m━━━━━━━━━━━━━━━━━━━━\u001b[0m\u001b[37m\u001b[0m \u001b[1m6s\u001b[0m 2ms/step - accuracy: 0.9108 - loss: 0.1817 - val_accuracy: 0.9127 - val_loss: 0.1754\n",
      "Epoch 6/100\n",
      "\u001b[1m4200/4200\u001b[0m \u001b[32m━━━━━━━━━━━━━━━━━━━━\u001b[0m\u001b[37m\u001b[0m \u001b[1m6s\u001b[0m 1ms/step - accuracy: 0.9107 - loss: 0.1802 - val_accuracy: 0.9139 - val_loss: 0.1716\n",
      "Epoch 7/100\n",
      "\u001b[1m4200/4200\u001b[0m \u001b[32m━━━━━━━━━━━━━━━━━━━━\u001b[0m\u001b[37m\u001b[0m \u001b[1m6s\u001b[0m 2ms/step - accuracy: 0.9107 - loss: 0.1779 - val_accuracy: 0.9137 - val_loss: 0.1711\n",
      "Epoch 8/100\n",
      "\u001b[1m4200/4200\u001b[0m \u001b[32m━━━━━━━━━━━━━━━━━━━━\u001b[0m\u001b[37m\u001b[0m \u001b[1m6s\u001b[0m 1ms/step - accuracy: 0.9121 - loss: 0.1765 - val_accuracy: 0.9156 - val_loss: 0.1686\n",
      "Epoch 9/100\n",
      "\u001b[1m4200/4200\u001b[0m \u001b[32m━━━━━━━━━━━━━━━━━━━━\u001b[0m\u001b[37m\u001b[0m \u001b[1m6s\u001b[0m 2ms/step - accuracy: 0.9125 - loss: 0.1744 - val_accuracy: 0.9173 - val_loss: 0.1676\n",
      "Epoch 10/100\n",
      "\u001b[1m4200/4200\u001b[0m \u001b[32m━━━━━━━━━━━━━━━━━━━━\u001b[0m\u001b[37m\u001b[0m \u001b[1m7s\u001b[0m 2ms/step - accuracy: 0.9147 - loss: 0.1711 - val_accuracy: 0.9172 - val_loss: 0.1659\n",
      "Epoch 11/100\n",
      "\u001b[1m4200/4200\u001b[0m \u001b[32m━━━━━━━━━━━━━━━━━━━━\u001b[0m\u001b[37m\u001b[0m \u001b[1m6s\u001b[0m 2ms/step - accuracy: 0.9152 - loss: 0.1704 - val_accuracy: 0.9161 - val_loss: 0.1647\n",
      "Epoch 12/100\n",
      "\u001b[1m4200/4200\u001b[0m \u001b[32m━━━━━━━━━━━━━━━━━━━━\u001b[0m\u001b[37m\u001b[0m \u001b[1m6s\u001b[0m 1ms/step - accuracy: 0.9155 - loss: 0.1669 - val_accuracy: 0.9167 - val_loss: 0.1650\n",
      "Epoch 13/100\n",
      "\u001b[1m4200/4200\u001b[0m \u001b[32m━━━━━━━━━━━━━━━━━━━━\u001b[0m\u001b[37m\u001b[0m \u001b[1m7s\u001b[0m 2ms/step - accuracy: 0.9163 - loss: 0.1679 - val_accuracy: 0.9183 - val_loss: 0.1628\n",
      "Epoch 14/100\n",
      "\u001b[1m4200/4200\u001b[0m \u001b[32m━━━━━━━━━━━━━━━━━━━━\u001b[0m\u001b[37m\u001b[0m \u001b[1m6s\u001b[0m 2ms/step - accuracy: 0.9166 - loss: 0.1644 - val_accuracy: 0.9165 - val_loss: 0.1629\n",
      "Epoch 15/100\n",
      "\u001b[1m4200/4200\u001b[0m \u001b[32m━━━━━━━━━━━━━━━━━━━━\u001b[0m\u001b[37m\u001b[0m \u001b[1m7s\u001b[0m 2ms/step - accuracy: 0.9176 - loss: 0.1637 - val_accuracy: 0.9176 - val_loss: 0.1626\n",
      "Epoch 16/100\n",
      "\u001b[1m4200/4200\u001b[0m \u001b[32m━━━━━━━━━━━━━━━━━━━━\u001b[0m\u001b[37m\u001b[0m \u001b[1m9s\u001b[0m 1ms/step - accuracy: 0.9162 - loss: 0.1654 - val_accuracy: 0.9184 - val_loss: 0.1609\n",
      "Epoch 17/100\n",
      "\u001b[1m4200/4200\u001b[0m \u001b[32m━━━━━━━━━━━━━━━━━━━━\u001b[0m\u001b[37m\u001b[0m \u001b[1m7s\u001b[0m 2ms/step - accuracy: 0.9168 - loss: 0.1634 - val_accuracy: 0.9199 - val_loss: 0.1596\n",
      "Epoch 18/100\n",
      "\u001b[1m4200/4200\u001b[0m \u001b[32m━━━━━━━━━━━━━━━━━━━━\u001b[0m\u001b[37m\u001b[0m \u001b[1m6s\u001b[0m 1ms/step - accuracy: 0.9185 - loss: 0.1612 - val_accuracy: 0.9170 - val_loss: 0.1614\n",
      "Epoch 19/100\n",
      "\u001b[1m4200/4200\u001b[0m \u001b[32m━━━━━━━━━━━━━━━━━━━━\u001b[0m\u001b[37m\u001b[0m \u001b[1m7s\u001b[0m 2ms/step - accuracy: 0.9187 - loss: 0.1616 - val_accuracy: 0.9184 - val_loss: 0.1587\n",
      "Epoch 20/100\n",
      "\u001b[1m4200/4200\u001b[0m \u001b[32m━━━━━━━━━━━━━━━━━━━━\u001b[0m\u001b[37m\u001b[0m \u001b[1m7s\u001b[0m 2ms/step - accuracy: 0.9179 - loss: 0.1624 - val_accuracy: 0.9197 - val_loss: 0.1593\n",
      "Epoch 21/100\n",
      "\u001b[1m4200/4200\u001b[0m \u001b[32m━━━━━━━━━━━━━━━━━━━━\u001b[0m\u001b[37m\u001b[0m \u001b[1m6s\u001b[0m 2ms/step - accuracy: 0.9180 - loss: 0.1610 - val_accuracy: 0.9178 - val_loss: 0.1597\n",
      "Epoch 22/100\n",
      "\u001b[1m4200/4200\u001b[0m \u001b[32m━━━━━━━━━━━━━━━━━━━━\u001b[0m\u001b[37m\u001b[0m \u001b[1m7s\u001b[0m 2ms/step - accuracy: 0.9180 - loss: 0.1606 - val_accuracy: 0.9216 - val_loss: 0.1567\n",
      "Epoch 23/100\n",
      "\u001b[1m4200/4200\u001b[0m \u001b[32m━━━━━━━━━━━━━━━━━━━━\u001b[0m\u001b[37m\u001b[0m \u001b[1m6s\u001b[0m 2ms/step - accuracy: 0.9181 - loss: 0.1610 - val_accuracy: 0.9198 - val_loss: 0.1569\n",
      "Epoch 24/100\n",
      "\u001b[1m4200/4200\u001b[0m \u001b[32m━━━━━━━━━━━━━━━━━━━━\u001b[0m\u001b[37m\u001b[0m \u001b[1m7s\u001b[0m 2ms/step - accuracy: 0.9182 - loss: 0.1611 - val_accuracy: 0.9198 - val_loss: 0.1577\n",
      "Epoch 25/100\n",
      "\u001b[1m4200/4200\u001b[0m \u001b[32m━━━━━━━━━━━━━━━━━━━━\u001b[0m\u001b[37m\u001b[0m \u001b[1m6s\u001b[0m 2ms/step - accuracy: 0.9200 - loss: 0.1575 - val_accuracy: 0.9201 - val_loss: 0.1570\n",
      "Epoch 26/100\n",
      "\u001b[1m4200/4200\u001b[0m \u001b[32m━━━━━━━━━━━━━━━━━━━━\u001b[0m\u001b[37m\u001b[0m \u001b[1m7s\u001b[0m 2ms/step - accuracy: 0.9203 - loss: 0.1579 - val_accuracy: 0.9208 - val_loss: 0.1553\n",
      "Epoch 27/100\n",
      "\u001b[1m4200/4200\u001b[0m \u001b[32m━━━━━━━━━━━━━━━━━━━━\u001b[0m\u001b[37m\u001b[0m \u001b[1m7s\u001b[0m 2ms/step - accuracy: 0.9200 - loss: 0.1578 - val_accuracy: 0.9202 - val_loss: 0.1564\n",
      "Epoch 28/100\n",
      "\u001b[1m4200/4200\u001b[0m \u001b[32m━━━━━━━━━━━━━━━━━━━━\u001b[0m\u001b[37m\u001b[0m \u001b[1m7s\u001b[0m 2ms/step - accuracy: 0.9197 - loss: 0.1585 - val_accuracy: 0.9199 - val_loss: 0.1550\n",
      "Epoch 29/100\n",
      "\u001b[1m4200/4200\u001b[0m \u001b[32m━━━━━━━━━━━━━━━━━━━━\u001b[0m\u001b[37m\u001b[0m \u001b[1m6s\u001b[0m 2ms/step - accuracy: 0.9174 - loss: 0.1598 - val_accuracy: 0.9193 - val_loss: 0.1577\n",
      "Epoch 30/100\n",
      "\u001b[1m4200/4200\u001b[0m \u001b[32m━━━━━━━━━━━━━━━━━━━━\u001b[0m\u001b[37m\u001b[0m \u001b[1m7s\u001b[0m 2ms/step - accuracy: 0.9190 - loss: 0.1583 - val_accuracy: 0.9215 - val_loss: 0.1550\n",
      "Epoch 31/100\n",
      "\u001b[1m4200/4200\u001b[0m \u001b[32m━━━━━━━━━━━━━━━━━━━━\u001b[0m\u001b[37m\u001b[0m \u001b[1m6s\u001b[0m 2ms/step - accuracy: 0.9204 - loss: 0.1567 - val_accuracy: 0.9210 - val_loss: 0.1552\n",
      "Epoch 32/100\n",
      "\u001b[1m4200/4200\u001b[0m \u001b[32m━━━━━━━━━━━━━━━━━━━━\u001b[0m\u001b[37m\u001b[0m \u001b[1m6s\u001b[0m 2ms/step - accuracy: 0.9205 - loss: 0.1570 - val_accuracy: 0.9201 - val_loss: 0.1551\n",
      "Epoch 33/100\n",
      "\u001b[1m4200/4200\u001b[0m \u001b[32m━━━━━━━━━━━━━━━━━━━━\u001b[0m\u001b[37m\u001b[0m \u001b[1m6s\u001b[0m 2ms/step - accuracy: 0.9186 - loss: 0.1574 - val_accuracy: 0.9214 - val_loss: 0.1542\n",
      "Epoch 34/100\n",
      "\u001b[1m4200/4200\u001b[0m \u001b[32m━━━━━━━━━━━━━━━━━━━━\u001b[0m\u001b[37m\u001b[0m \u001b[1m6s\u001b[0m 2ms/step - accuracy: 0.9215 - loss: 0.1563 - val_accuracy: 0.9212 - val_loss: 0.1536\n",
      "Epoch 35/100\n",
      "\u001b[1m4200/4200\u001b[0m \u001b[32m━━━━━━━━━━━━━━━━━━━━\u001b[0m\u001b[37m\u001b[0m \u001b[1m7s\u001b[0m 2ms/step - accuracy: 0.9210 - loss: 0.1563 - val_accuracy: 0.9219 - val_loss: 0.1539\n",
      "Epoch 36/100\n",
      "\u001b[1m4200/4200\u001b[0m \u001b[32m━━━━━━━━━━━━━━━━━━━━\u001b[0m\u001b[37m\u001b[0m \u001b[1m6s\u001b[0m 2ms/step - accuracy: 0.9200 - loss: 0.1562 - val_accuracy: 0.9198 - val_loss: 0.1543\n",
      "Epoch 37/100\n",
      "\u001b[1m4200/4200\u001b[0m \u001b[32m━━━━━━━━━━━━━━━━━━━━\u001b[0m\u001b[37m\u001b[0m \u001b[1m7s\u001b[0m 2ms/step - accuracy: 0.9204 - loss: 0.1550 - val_accuracy: 0.9219 - val_loss: 0.1548\n",
      "Epoch 38/100\n",
      "\u001b[1m4200/4200\u001b[0m \u001b[32m━━━━━━━━━━━━━━━━━━━━\u001b[0m\u001b[37m\u001b[0m \u001b[1m7s\u001b[0m 2ms/step - accuracy: 0.9202 - loss: 0.1556 - val_accuracy: 0.9211 - val_loss: 0.1532\n",
      "Epoch 39/100\n",
      "\u001b[1m4200/4200\u001b[0m \u001b[32m━━━━━━━━━━━━━━━━━━━━\u001b[0m\u001b[37m\u001b[0m \u001b[1m7s\u001b[0m 2ms/step - accuracy: 0.9209 - loss: 0.1558 - val_accuracy: 0.9225 - val_loss: 0.1529\n",
      "Epoch 40/100\n",
      "\u001b[1m4200/4200\u001b[0m \u001b[32m━━━━━━━━━━━━━━━━━━━━\u001b[0m\u001b[37m\u001b[0m \u001b[1m7s\u001b[0m 2ms/step - accuracy: 0.9202 - loss: 0.1553 - val_accuracy: 0.9223 - val_loss: 0.1527\n",
      "Epoch 41/100\n",
      "\u001b[1m4200/4200\u001b[0m \u001b[32m━━━━━━━━━━━━━━━━━━━━\u001b[0m\u001b[37m\u001b[0m \u001b[1m7s\u001b[0m 2ms/step - accuracy: 0.9202 - loss: 0.1553 - val_accuracy: 0.9237 - val_loss: 0.1522\n",
      "Epoch 42/100\n",
      "\u001b[1m4200/4200\u001b[0m \u001b[32m━━━━━━━━━━━━━━━━━━━━\u001b[0m\u001b[37m\u001b[0m \u001b[1m7s\u001b[0m 2ms/step - accuracy: 0.9208 - loss: 0.1564 - val_accuracy: 0.9228 - val_loss: 0.1521\n",
      "Epoch 43/100\n",
      "\u001b[1m4200/4200\u001b[0m \u001b[32m━━━━━━━━━━━━━━━━━━━━\u001b[0m\u001b[37m\u001b[0m \u001b[1m7s\u001b[0m 2ms/step - accuracy: 0.9224 - loss: 0.1532 - val_accuracy: 0.9219 - val_loss: 0.1525\n",
      "Epoch 44/100\n",
      "\u001b[1m4200/4200\u001b[0m \u001b[32m━━━━━━━━━━━━━━━━━━━━\u001b[0m\u001b[37m\u001b[0m \u001b[1m7s\u001b[0m 2ms/step - accuracy: 0.9210 - loss: 0.1547 - val_accuracy: 0.9220 - val_loss: 0.1527\n",
      "Epoch 45/100\n",
      "\u001b[1m4200/4200\u001b[0m \u001b[32m━━━━━━━━━━━━━━━━━━━━\u001b[0m\u001b[37m\u001b[0m \u001b[1m7s\u001b[0m 2ms/step - accuracy: 0.9195 - loss: 0.1567 - val_accuracy: 0.9215 - val_loss: 0.1523\n",
      "Epoch 46/100\n",
      "\u001b[1m4200/4200\u001b[0m \u001b[32m━━━━━━━━━━━━━━━━━━━━\u001b[0m\u001b[37m\u001b[0m \u001b[1m7s\u001b[0m 2ms/step - accuracy: 0.9215 - loss: 0.1528 - val_accuracy: 0.9221 - val_loss: 0.1527\n",
      "Epoch 47/100\n",
      "\u001b[1m4200/4200\u001b[0m \u001b[32m━━━━━━━━━━━━━━━━━━━━\u001b[0m\u001b[37m\u001b[0m \u001b[1m7s\u001b[0m 2ms/step - accuracy: 0.9213 - loss: 0.1543 - val_accuracy: 0.9224 - val_loss: 0.1525\n",
      "Epoch 48/100\n",
      "\u001b[1m4200/4200\u001b[0m \u001b[32m━━━━━━━━━━━━━━━━━━━━\u001b[0m\u001b[37m\u001b[0m \u001b[1m7s\u001b[0m 2ms/step - accuracy: 0.9210 - loss: 0.1557 - val_accuracy: 0.9222 - val_loss: 0.1527\n",
      "Epoch 49/100\n",
      "\u001b[1m4200/4200\u001b[0m \u001b[32m━━━━━━━━━━━━━━━━━━━━\u001b[0m\u001b[37m\u001b[0m \u001b[1m7s\u001b[0m 2ms/step - accuracy: 0.9212 - loss: 0.1546 - val_accuracy: 0.9230 - val_loss: 0.1515\n",
      "Epoch 50/100\n",
      "\u001b[1m4200/4200\u001b[0m \u001b[32m━━━━━━━━━━━━━━━━━━━━\u001b[0m\u001b[37m\u001b[0m \u001b[1m7s\u001b[0m 2ms/step - accuracy: 0.9195 - loss: 0.1550 - val_accuracy: 0.9237 - val_loss: 0.1510\n",
      "Epoch 51/100\n",
      "\u001b[1m4200/4200\u001b[0m \u001b[32m━━━━━━━━━━━━━━━━━━━━\u001b[0m\u001b[37m\u001b[0m \u001b[1m8s\u001b[0m 2ms/step - accuracy: 0.9220 - loss: 0.1519 - val_accuracy: 0.9229 - val_loss: 0.1514\n",
      "Epoch 52/100\n",
      "\u001b[1m4200/4200\u001b[0m \u001b[32m━━━━━━━━━━━━━━━━━━━━\u001b[0m\u001b[37m\u001b[0m \u001b[1m7s\u001b[0m 2ms/step - accuracy: 0.9216 - loss: 0.1534 - val_accuracy: 0.9235 - val_loss: 0.1507\n",
      "Epoch 53/100\n",
      "\u001b[1m4200/4200\u001b[0m \u001b[32m━━━━━━━━━━━━━━━━━━━━\u001b[0m\u001b[37m\u001b[0m \u001b[1m7s\u001b[0m 2ms/step - accuracy: 0.9222 - loss: 0.1526 - val_accuracy: 0.9218 - val_loss: 0.1509\n",
      "Epoch 54/100\n",
      "\u001b[1m4200/4200\u001b[0m \u001b[32m━━━━━━━━━━━━━━━━━━━━\u001b[0m\u001b[37m\u001b[0m \u001b[1m7s\u001b[0m 2ms/step - accuracy: 0.9225 - loss: 0.1531 - val_accuracy: 0.9228 - val_loss: 0.1505\n",
      "Epoch 55/100\n",
      "\u001b[1m4200/4200\u001b[0m \u001b[32m━━━━━━━━━━━━━━━━━━━━\u001b[0m\u001b[37m\u001b[0m \u001b[1m7s\u001b[0m 2ms/step - accuracy: 0.9211 - loss: 0.1531 - val_accuracy: 0.9204 - val_loss: 0.1544\n",
      "Epoch 56/100\n",
      "\u001b[1m4200/4200\u001b[0m \u001b[32m━━━━━━━━━━━━━━━━━━━━\u001b[0m\u001b[37m\u001b[0m \u001b[1m7s\u001b[0m 2ms/step - accuracy: 0.9219 - loss: 0.1519 - val_accuracy: 0.9220 - val_loss: 0.1509\n",
      "Epoch 57/100\n",
      "\u001b[1m4200/4200\u001b[0m \u001b[32m━━━━━━━━━━━━━━━━━━━━\u001b[0m\u001b[37m\u001b[0m \u001b[1m7s\u001b[0m 2ms/step - accuracy: 0.9224 - loss: 0.1513 - val_accuracy: 0.9224 - val_loss: 0.1514\n",
      "Epoch 58/100\n",
      "\u001b[1m4200/4200\u001b[0m \u001b[32m━━━━━━━━━━━━━━━━━━━━\u001b[0m\u001b[37m\u001b[0m \u001b[1m7s\u001b[0m 2ms/step - accuracy: 0.9226 - loss: 0.1506 - val_accuracy: 0.9236 - val_loss: 0.1510\n",
      "Epoch 59/100\n",
      "\u001b[1m4200/4200\u001b[0m \u001b[32m━━━━━━━━━━━━━━━━━━━━\u001b[0m\u001b[37m\u001b[0m \u001b[1m7s\u001b[0m 2ms/step - accuracy: 0.9223 - loss: 0.1528 - val_accuracy: 0.9224 - val_loss: 0.1508\n",
      "Epoch 60/100\n",
      "\u001b[1m4200/4200\u001b[0m \u001b[32m━━━━━━━━━━━━━━━━━━━━\u001b[0m\u001b[37m\u001b[0m \u001b[1m7s\u001b[0m 2ms/step - accuracy: 0.9236 - loss: 0.1494 - val_accuracy: 0.9232 - val_loss: 0.1499\n",
      "Epoch 61/100\n",
      "\u001b[1m4200/4200\u001b[0m \u001b[32m━━━━━━━━━━━━━━━━━━━━\u001b[0m\u001b[37m\u001b[0m \u001b[1m7s\u001b[0m 2ms/step - accuracy: 0.9230 - loss: 0.1515 - val_accuracy: 0.9232 - val_loss: 0.1501\n",
      "Epoch 62/100\n",
      "\u001b[1m4200/4200\u001b[0m \u001b[32m━━━━━━━━━━━━━━━━━━━━\u001b[0m\u001b[37m\u001b[0m \u001b[1m7s\u001b[0m 2ms/step - accuracy: 0.9207 - loss: 0.1525 - val_accuracy: 0.9235 - val_loss: 0.1498\n",
      "Epoch 63/100\n",
      "\u001b[1m4200/4200\u001b[0m \u001b[32m━━━━━━━━━━━━━━━━━━━━\u001b[0m\u001b[37m\u001b[0m \u001b[1m7s\u001b[0m 2ms/step - accuracy: 0.9221 - loss: 0.1522 - val_accuracy: 0.9231 - val_loss: 0.1491\n",
      "Epoch 64/100\n",
      "\u001b[1m4200/4200\u001b[0m \u001b[32m━━━━━━━━━━━━━━━━━━━━\u001b[0m\u001b[37m\u001b[0m \u001b[1m7s\u001b[0m 2ms/step - accuracy: 0.9222 - loss: 0.1521 - val_accuracy: 0.9240 - val_loss: 0.1503\n",
      "Epoch 65/100\n",
      "\u001b[1m4200/4200\u001b[0m \u001b[32m━━━━━━━━━━━━━━━━━━━━\u001b[0m\u001b[37m\u001b[0m \u001b[1m7s\u001b[0m 2ms/step - accuracy: 0.9202 - loss: 0.1538 - val_accuracy: 0.9233 - val_loss: 0.1500\n",
      "Epoch 66/100\n",
      "\u001b[1m4200/4200\u001b[0m \u001b[32m━━━━━━━━━━━━━━━━━━━━\u001b[0m\u001b[37m\u001b[0m \u001b[1m7s\u001b[0m 2ms/step - accuracy: 0.9219 - loss: 0.1517 - val_accuracy: 0.9233 - val_loss: 0.1503\n",
      "Epoch 67/100\n",
      "\u001b[1m4200/4200\u001b[0m \u001b[32m━━━━━━━━━━━━━━━━━━━━\u001b[0m\u001b[37m\u001b[0m \u001b[1m7s\u001b[0m 2ms/step - accuracy: 0.9216 - loss: 0.1523 - val_accuracy: 0.9225 - val_loss: 0.1498\n",
      "Epoch 68/100\n",
      "\u001b[1m4200/4200\u001b[0m \u001b[32m━━━━━━━━━━━━━━━━━━━━\u001b[0m\u001b[37m\u001b[0m \u001b[1m7s\u001b[0m 2ms/step - accuracy: 0.9243 - loss: 0.1502 - val_accuracy: 0.9238 - val_loss: 0.1496\n",
      "Epoch 69/100\n",
      "\u001b[1m4200/4200\u001b[0m \u001b[32m━━━━━━━━━━━━━━━━━━━━\u001b[0m\u001b[37m\u001b[0m \u001b[1m8s\u001b[0m 2ms/step - accuracy: 0.9212 - loss: 0.1521 - val_accuracy: 0.9227 - val_loss: 0.1496\n",
      "Epoch 70/100\n",
      "\u001b[1m4200/4200\u001b[0m \u001b[32m━━━━━━━━━━━━━━━━━━━━\u001b[0m\u001b[37m\u001b[0m \u001b[1m7s\u001b[0m 2ms/step - accuracy: 0.9219 - loss: 0.1527 - val_accuracy: 0.9229 - val_loss: 0.1490\n",
      "Epoch 71/100\n",
      "\u001b[1m4200/4200\u001b[0m \u001b[32m━━━━━━━━━━━━━━━━━━━━\u001b[0m\u001b[37m\u001b[0m \u001b[1m8s\u001b[0m 2ms/step - accuracy: 0.9231 - loss: 0.1509 - val_accuracy: 0.9218 - val_loss: 0.1512\n",
      "Epoch 72/100\n",
      "\u001b[1m4200/4200\u001b[0m \u001b[32m━━━━━━━━━━━━━━━━━━━━\u001b[0m\u001b[37m\u001b[0m \u001b[1m7s\u001b[0m 2ms/step - accuracy: 0.9247 - loss: 0.1501 - val_accuracy: 0.9238 - val_loss: 0.1495\n",
      "Epoch 73/100\n",
      "\u001b[1m4200/4200\u001b[0m \u001b[32m━━━━━━━━━━━━━━━━━━━━\u001b[0m\u001b[37m\u001b[0m \u001b[1m7s\u001b[0m 2ms/step - accuracy: 0.9230 - loss: 0.1512 - val_accuracy: 0.9229 - val_loss: 0.1490\n",
      "Epoch 74/100\n",
      "\u001b[1m4200/4200\u001b[0m \u001b[32m━━━━━━━━━━━━━━━━━━━━\u001b[0m\u001b[37m\u001b[0m \u001b[1m7s\u001b[0m 2ms/step - accuracy: 0.9232 - loss: 0.1507 - val_accuracy: 0.9231 - val_loss: 0.1495\n",
      "Epoch 75/100\n",
      "\u001b[1m4200/4200\u001b[0m \u001b[32m━━━━━━━━━━━━━━━━━━━━\u001b[0m\u001b[37m\u001b[0m \u001b[1m7s\u001b[0m 2ms/step - accuracy: 0.9228 - loss: 0.1516 - val_accuracy: 0.9226 - val_loss: 0.1509\n",
      "Epoch 76/100\n",
      "\u001b[1m4200/4200\u001b[0m \u001b[32m━━━━━━━━━━━━━━━━━━━━\u001b[0m\u001b[37m\u001b[0m \u001b[1m7s\u001b[0m 2ms/step - accuracy: 0.9229 - loss: 0.1495 - val_accuracy: 0.9237 - val_loss: 0.1493\n",
      "Epoch 77/100\n",
      "\u001b[1m4200/4200\u001b[0m \u001b[32m━━━━━━━━━━━━━━━━━━━━\u001b[0m\u001b[37m\u001b[0m \u001b[1m7s\u001b[0m 2ms/step - accuracy: 0.9236 - loss: 0.1501 - val_accuracy: 0.9227 - val_loss: 0.1502\n",
      "Epoch 78/100\n",
      "\u001b[1m4200/4200\u001b[0m \u001b[32m━━━━━━━━━━━━━━━━━━━━\u001b[0m\u001b[37m\u001b[0m \u001b[1m7s\u001b[0m 2ms/step - accuracy: 0.9226 - loss: 0.1512 - val_accuracy: 0.9215 - val_loss: 0.1502\n",
      "Epoch 79/100\n",
      "\u001b[1m4200/4200\u001b[0m \u001b[32m━━━━━━━━━━━━━━━━━━━━\u001b[0m\u001b[37m\u001b[0m \u001b[1m7s\u001b[0m 2ms/step - accuracy: 0.9234 - loss: 0.1494 - val_accuracy: 0.9244 - val_loss: 0.1495\n",
      "Epoch 80/100\n",
      "\u001b[1m4200/4200\u001b[0m \u001b[32m━━━━━━━━━━━━━━━━━━━━\u001b[0m\u001b[37m\u001b[0m \u001b[1m7s\u001b[0m 2ms/step - accuracy: 0.9222 - loss: 0.1520 - val_accuracy: 0.9243 - val_loss: 0.1490\n",
      "Epoch 81/100\n",
      "\u001b[1m4200/4200\u001b[0m \u001b[32m━━━━━━━━━━━━━━━━━━━━\u001b[0m\u001b[37m\u001b[0m \u001b[1m7s\u001b[0m 2ms/step - accuracy: 0.9233 - loss: 0.1507 - val_accuracy: 0.9235 - val_loss: 0.1489\n",
      "Epoch 82/100\n",
      "\u001b[1m4200/4200\u001b[0m \u001b[32m━━━━━━━━━━━━━━━━━━━━\u001b[0m\u001b[37m\u001b[0m \u001b[1m7s\u001b[0m 2ms/step - accuracy: 0.9221 - loss: 0.1511 - val_accuracy: 0.9232 - val_loss: 0.1492\n",
      "Epoch 83/100\n",
      "\u001b[1m4200/4200\u001b[0m \u001b[32m━━━━━━━━━━━━━━━━━━━━\u001b[0m\u001b[37m\u001b[0m \u001b[1m7s\u001b[0m 2ms/step - accuracy: 0.9242 - loss: 0.1505 - val_accuracy: 0.9249 - val_loss: 0.1494\n",
      "Epoch 84/100\n",
      "\u001b[1m4200/4200\u001b[0m \u001b[32m━━━━━━━━━━━━━━━━━━━━\u001b[0m\u001b[37m\u001b[0m \u001b[1m7s\u001b[0m 2ms/step - accuracy: 0.9233 - loss: 0.1498 - val_accuracy: 0.9235 - val_loss: 0.1500\n",
      "Epoch 85/100\n",
      "\u001b[1m4200/4200\u001b[0m \u001b[32m━━━━━━━━━━━━━━━━━━━━\u001b[0m\u001b[37m\u001b[0m \u001b[1m7s\u001b[0m 2ms/step - accuracy: 0.9240 - loss: 0.1490 - val_accuracy: 0.9241 - val_loss: 0.1480\n",
      "Epoch 86/100\n",
      "\u001b[1m4200/4200\u001b[0m \u001b[32m━━━━━━━━━━━━━━━━━━━━\u001b[0m\u001b[37m\u001b[0m \u001b[1m7s\u001b[0m 2ms/step - accuracy: 0.9240 - loss: 0.1512 - val_accuracy: 0.9226 - val_loss: 0.1501\n",
      "Epoch 87/100\n",
      "\u001b[1m4200/4200\u001b[0m \u001b[32m━━━━━━━━━━━━━━━━━━━━\u001b[0m\u001b[37m\u001b[0m \u001b[1m7s\u001b[0m 2ms/step - accuracy: 0.9241 - loss: 0.1506 - val_accuracy: 0.9245 - val_loss: 0.1485\n",
      "Epoch 88/100\n",
      "\u001b[1m4200/4200\u001b[0m \u001b[32m━━━━━━━━━━━━━━━━━━━━\u001b[0m\u001b[37m\u001b[0m \u001b[1m7s\u001b[0m 2ms/step - accuracy: 0.9230 - loss: 0.1503 - val_accuracy: 0.9237 - val_loss: 0.1484\n",
      "Epoch 89/100\n",
      "\u001b[1m4200/4200\u001b[0m \u001b[32m━━━━━━━━━━━━━━━━━━━━\u001b[0m\u001b[37m\u001b[0m \u001b[1m7s\u001b[0m 2ms/step - accuracy: 0.9234 - loss: 0.1497 - val_accuracy: 0.9249 - val_loss: 0.1482\n",
      "Epoch 90/100\n",
      "\u001b[1m4200/4200\u001b[0m \u001b[32m━━━━━━━━━━━━━━━━━━━━\u001b[0m\u001b[37m\u001b[0m \u001b[1m7s\u001b[0m 2ms/step - accuracy: 0.9219 - loss: 0.1509 - val_accuracy: 0.9240 - val_loss: 0.1495\n",
      "Epoch 91/100\n",
      "\u001b[1m4200/4200\u001b[0m \u001b[32m━━━━━━━━━━━━━━━━━━━━\u001b[0m\u001b[37m\u001b[0m \u001b[1m7s\u001b[0m 2ms/step - accuracy: 0.9235 - loss: 0.1507 - val_accuracy: 0.9234 - val_loss: 0.1493\n",
      "Epoch 92/100\n",
      "\u001b[1m4200/4200\u001b[0m \u001b[32m━━━━━━━━━━━━━━━━━━━━\u001b[0m\u001b[37m\u001b[0m \u001b[1m7s\u001b[0m 2ms/step - accuracy: 0.9224 - loss: 0.1519 - val_accuracy: 0.9239 - val_loss: 0.1489\n",
      "Epoch 93/100\n",
      "\u001b[1m4200/4200\u001b[0m \u001b[32m━━━━━━━━━━━━━━━━━━━━\u001b[0m\u001b[37m\u001b[0m \u001b[1m7s\u001b[0m 2ms/step - accuracy: 0.9235 - loss: 0.1491 - val_accuracy: 0.9247 - val_loss: 0.1481\n",
      "Epoch 94/100\n",
      "\u001b[1m4200/4200\u001b[0m \u001b[32m━━━━━━━━━━━━━━━━━━━━\u001b[0m\u001b[37m\u001b[0m \u001b[1m7s\u001b[0m 2ms/step - accuracy: 0.9227 - loss: 0.1507 - val_accuracy: 0.9228 - val_loss: 0.1490\n",
      "Epoch 95/100\n",
      "\u001b[1m4200/4200\u001b[0m \u001b[32m━━━━━━━━━━━━━━━━━━━━\u001b[0m\u001b[37m\u001b[0m \u001b[1m7s\u001b[0m 2ms/step - accuracy: 0.9240 - loss: 0.1495 - val_accuracy: 0.9227 - val_loss: 0.1493\n",
      "Epoch 96/100\n",
      "\u001b[1m4200/4200\u001b[0m \u001b[32m━━━━━━━━━━━━━━━━━━━━\u001b[0m\u001b[37m\u001b[0m \u001b[1m7s\u001b[0m 2ms/step - accuracy: 0.9250 - loss: 0.1490 - val_accuracy: 0.9240 - val_loss: 0.1481\n",
      "Epoch 97/100\n",
      "\u001b[1m4200/4200\u001b[0m \u001b[32m━━━━━━━━━━━━━━━━━━━━\u001b[0m\u001b[37m\u001b[0m \u001b[1m7s\u001b[0m 2ms/step - accuracy: 0.9233 - loss: 0.1508 - val_accuracy: 0.9246 - val_loss: 0.1489\n",
      "Epoch 98/100\n",
      "\u001b[1m4200/4200\u001b[0m \u001b[32m━━━━━━━━━━━━━━━━━━━━\u001b[0m\u001b[37m\u001b[0m \u001b[1m7s\u001b[0m 2ms/step - accuracy: 0.9254 - loss: 0.1483 - val_accuracy: 0.9244 - val_loss: 0.1479\n",
      "Epoch 99/100\n",
      "\u001b[1m4200/4200\u001b[0m \u001b[32m━━━━━━━━━━━━━━━━━━━━\u001b[0m\u001b[37m\u001b[0m \u001b[1m7s\u001b[0m 2ms/step - accuracy: 0.9255 - loss: 0.1488 - val_accuracy: 0.9248 - val_loss: 0.1484\n",
      "Epoch 100/100\n",
      "\u001b[1m4200/4200\u001b[0m \u001b[32m━━━━━━━━━━━━━━━━━━━━\u001b[0m\u001b[37m\u001b[0m \u001b[1m7s\u001b[0m 2ms/step - accuracy: 0.9233 - loss: 0.1499 - val_accuracy: 0.9251 - val_loss: 0.1478\n"
     ]
    },
    {
     "data": {
      "text/plain": [
       "<keras.src.callbacks.history.History at 0x24e4bdba270>"
      ]
     },
     "execution_count": 40,
     "metadata": {},
     "output_type": "execute_result"
    }
   ],
   "source": [
    "# Treinar o modelo\n",
    "model.fit(X_train, y_train, epochs=100, batch_size=32, validation_data=(X_test, y_test))"
   ]
  },
  {
   "cell_type": "code",
   "execution_count": 41,
   "metadata": {},
   "outputs": [
    {
     "name": "stdout",
     "output_type": "stream",
     "text": [
      "\u001b[1m 395/1050\u001b[0m \u001b[32m━━━━━━━\u001b[0m\u001b[37m━━━━━━━━━━━━━\u001b[0m \u001b[1m0s\u001b[0m 767us/step"
     ]
    },
    {
     "name": "stdout",
     "output_type": "stream",
     "text": [
      "\u001b[1m1050/1050\u001b[0m \u001b[32m━━━━━━━━━━━━━━━━━━━━\u001b[0m\u001b[37m\u001b[0m \u001b[1m1s\u001b[0m 894us/step\n"
     ]
    }
   ],
   "source": [
    "# Fazer previsões\n",
    "predictions = model.predict(X_test).round()"
   ]
  },
  {
   "cell_type": "code",
   "execution_count": 42,
   "metadata": {},
   "outputs": [
    {
     "name": "stdout",
     "output_type": "stream",
     "text": [
      "              precision    recall  f1-score   support\n",
      "\n",
      "           0       0.92      0.94      0.93     18112\n",
      "           1       0.93      0.90      0.92     15488\n",
      "\n",
      "    accuracy                           0.93     33600\n",
      "   macro avg       0.93      0.92      0.92     33600\n",
      "weighted avg       0.93      0.93      0.93     33600\n",
      "\n",
      "Accuracy: 0.9251488095238095\n"
     ]
    }
   ],
   "source": [
    "# Avaliação do modelo\n",
    "print(classification_report(y_test, predictions))\n",
    "print(\"Accuracy:\", accuracy_score(y_test, predictions))"
   ]
  },
  {
   "cell_type": "code",
   "execution_count": 43,
   "metadata": {},
   "outputs": [],
   "source": [
    "# Matriz de confusão e Índice Kappa\n",
    "conf_matrix = confusion_matrix(y_test, predictions)\n",
    "kappa_score = cohen_kappa_score(y_test, predictions)"
   ]
  },
  {
   "cell_type": "code",
   "execution_count": 44,
   "metadata": {},
   "outputs": [
    {
     "name": "stdout",
     "output_type": "stream",
     "text": [
      "Matriz de Confusão:\n",
      "[[17115   997]\n",
      " [ 1518 13970]]\n",
      "Índice Kappa: 0.8490110804683032\n"
     ]
    }
   ],
   "source": [
    "print(\"Matriz de Confusão:\")\n",
    "print(conf_matrix)\n",
    "print(\"Índice Kappa:\", kappa_score)"
   ]
  },
  {
   "cell_type": "code",
   "execution_count": 45,
   "metadata": {},
   "outputs": [
    {
     "data": {
      "image/png": "[encoded data removed]",
      "text/plain": [
       "<Figure size 600x400 with 2 Axes>"
      ]
     },
     "metadata": {},
     "output_type": "display_data"
    }
   ],
   "source": [
    "# Criar um plot da matriz de confusão usando seaborn\n",
    "plt.figure(figsize=(6, 4))\n",
    "sns.heatmap(conf_matrix, annot=True, fmt='d', cmap='Blues', xticklabels=['Classe 0', 'Classe 1'], yticklabels=['Classe 0', 'Classe 1'])\n",
    "plt.xlabel('Previsões')\n",
    "plt.ylabel('Real')\n",
    "plt.title('Matriz de Confusão LSTM')\n",
    "plt.show()"
   ]
  },
  {
   "cell_type": "markdown",
   "metadata": {},
   "source": [
    "Aplicando outras métricas"
   ]
  },
  {
   "cell_type": "markdown",
   "metadata": {},
   "source": [
    "1 - Precisão"
   ]
  },
  {
   "cell_type": "code",
   "execution_count": 46,
   "metadata": {},
   "outputs": [
    {
     "name": "stdout",
     "output_type": "stream",
     "text": [
      "Precisão: 0.9333867842587025\n"
     ]
    }
   ],
   "source": [
    "precision = precision_score (y_test , predictions)\n",
    "print(\"Precisão:\", precision)"
   ]
  },
  {
   "cell_type": "markdown",
   "metadata": {},
   "source": [
    "2 - Sensibilidade"
   ]
  },
  {
   "cell_type": "code",
   "execution_count": 47,
   "metadata": {},
   "outputs": [
    {
     "name": "stdout",
     "output_type": "stream",
     "text": [
      "Sensibilidade: 0.9019886363636364\n"
     ]
    }
   ],
   "source": [
    "sensitivity = recall_score(y_test, predictions)\n",
    "print(\"Sensibilidade:\", sensitivity)"
   ]
  },
  {
   "cell_type": "markdown",
   "metadata": {},
   "source": [
    "3 - Especificidade"
   ]
  },
  {
   "cell_type": "code",
   "execution_count": 48,
   "metadata": {},
   "outputs": [
    {
     "name": "stdout",
     "output_type": "stream",
     "text": [
      "Especificidade: 0.9449536219081273\n"
     ]
    }
   ],
   "source": [
    "#true negatives\n",
    "TN = conf_matrix[0][0]\n",
    "#false positives\n",
    "FP = conf_matrix[0][1]\n",
    "\n",
    "specificity = TN/(TN+FP)\n",
    "print(\"Especificidade:\", specificity)"
   ]
  }
 ],
 "metadata": {
  "kernelspec": {
   "display_name": "Python 3",
   "language": "python",
   "name": "python3"
  },
  "language_info": {
   "codemirror_mode": {
    "name": "ipython",
    "version": 3
   },
   "file_extension": ".py",
   "mimetype": "text/x-python",
   "name": "python",
   "nbconvert_exporter": "python",
   "pygments_lexer": "ipython3",
   "version": "3.12.3"
  }
 },
 "nbformat": 4,
 "nbformat_minor": 2
}
