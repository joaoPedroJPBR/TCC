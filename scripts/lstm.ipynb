{
 "cells": [
  {
   "cell_type": "code",
   "execution_count": 30,
   "metadata": {},
   "outputs": [],
   "source": [
    "import matplotlib.pyplot as plt\n",
    "import tensorflow as tf\n",
    "import seaborn as sns\n",
    "from tensorflow.keras.models import Sequential\n",
    "from tensorflow.keras.layers import LSTM, Dense, Dropout\n",
    "import pandas as pd\n",
    "from sklearn.model_selection import train_test_split\n",
    "from sklearn.preprocessing import StandardScaler\n",
    "from sklearn.metrics import classification_report, accuracy_score, confusion_matrix, cohen_kappa_score"
   ]
  },
  {
   "cell_type": "code",
   "execution_count": 12,
   "metadata": {},
   "outputs": [],
   "source": [
    "# Ler o arquivo CSV com as colunas na primeira linha\n",
    "df = pd.read_csv('../data/diabetes_prediction_dataset.csv')"
   ]
  },
  {
   "cell_type": "code",
   "execution_count": 13,
   "metadata": {},
   "outputs": [],
   "source": [
    "df = df.drop('gender', axis=1)\n",
    "df = df.drop('smoking_history', axis=1)"
   ]
  },
  {
   "cell_type": "code",
   "execution_count": 14,
   "metadata": {},
   "outputs": [],
   "source": [
    "\n",
    "# Separar as características (features) e a classe (label)\n",
    "X = df.iloc[:, :-1].values  # Todas as colunas exceto a última\n",
    "y = df.iloc[:, -1].values   # Última coluna"
   ]
  },
  {
   "cell_type": "code",
   "execution_count": 15,
   "metadata": {},
   "outputs": [],
   "source": [
    "# Dividir os dados em conjunto de treino e teste\n",
    "X_train, X_test, y_train, y_test = train_test_split(X, y, test_size=0.2, random_state=42)"
   ]
  },
  {
   "cell_type": "code",
   "execution_count": 16,
   "metadata": {},
   "outputs": [],
   "source": [
    "# Normalizar os dados\n",
    "scaler = StandardScaler()\n",
    "X_train = scaler.fit_transform(X_train)\n",
    "X_test = scaler.transform(X_test)"
   ]
  },
  {
   "cell_type": "code",
   "execution_count": 17,
   "metadata": {},
   "outputs": [],
   "source": [
    "# Redimensionar os dados para o formato esperado pelo LSTM (samples, time steps, features)\n",
    "X_train = X_train.reshape((X_train.shape[0], 1, X_train.shape[1]))\n",
    "X_test = X_test.reshape((X_test.shape[0], 1, X_test.shape[1]))"
   ]
  },
  {
   "cell_type": "code",
   "execution_count": 18,
   "metadata": {},
   "outputs": [
    {
     "name": "stdout",
     "output_type": "stream",
     "text": [
      "WARNING:tensorflow:From c:\\Users\\joao\\AppData\\Local\\Programs\\Python\\Python39\\lib\\site-packages\\keras\\src\\layers\\rnn\\lstm.py:148: The name tf.executing_eagerly_outside_functions is deprecated. Please use tf.compat.v1.executing_eagerly_outside_functions instead.\n",
      "\n"
     ]
    }
   ],
   "source": [
    "# Construir o modelo LSTM\n",
    "model = Sequential([\n",
    "    LSTM(50, input_shape=(X_train.shape[1], X_train.shape[2])),\n",
    "    Dropout(0.2),\n",
    "    Dense(1, activation='sigmoid')\n",
    "])"
   ]
  },
  {
   "cell_type": "code",
   "execution_count": 19,
   "metadata": {},
   "outputs": [
    {
     "name": "stdout",
     "output_type": "stream",
     "text": [
      "WARNING:tensorflow:From c:\\Users\\joao\\AppData\\Local\\Programs\\Python\\Python39\\lib\\site-packages\\keras\\src\\optimizers\\__init__.py:309: The name tf.train.Optimizer is deprecated. Please use tf.compat.v1.train.Optimizer instead.\n",
      "\n"
     ]
    }
   ],
   "source": [
    "# Compilar o modelo\n",
    "model.compile(optimizer='adam', loss='binary_crossentropy', metrics=['accuracy'])\n"
   ]
  },
  {
   "cell_type": "code",
   "execution_count": 20,
   "metadata": {},
   "outputs": [
    {
     "name": "stdout",
     "output_type": "stream",
     "text": [
      "Epoch 1/100\n",
      "WARNING:tensorflow:From c:\\Users\\joao\\AppData\\Local\\Programs\\Python\\Python39\\lib\\site-packages\\keras\\src\\utils\\tf_utils.py:492: The name tf.ragged.RaggedTensorValue is deprecated. Please use tf.compat.v1.ragged.RaggedTensorValue instead.\n",
      "\n",
      "WARNING:tensorflow:From c:\\Users\\joao\\AppData\\Local\\Programs\\Python\\Python39\\lib\\site-packages\\keras\\src\\engine\\base_layer_utils.py:384: The name tf.executing_eagerly_outside_functions is deprecated. Please use tf.compat.v1.executing_eagerly_outside_functions instead.\n",
      "\n",
      "2500/2500 [==============================] - 19s 6ms/step - loss: 0.1521 - accuracy: 0.9534 - val_loss: 0.1152 - val_accuracy: 0.9597\n",
      "Epoch 2/100\n",
      "2500/2500 [==============================] - 11s 4ms/step - loss: 0.1142 - accuracy: 0.9611 - val_loss: 0.1140 - val_accuracy: 0.9603\n",
      "Epoch 3/100\n",
      "2500/2500 [==============================] - 11s 4ms/step - loss: 0.1129 - accuracy: 0.9616 - val_loss: 0.1116 - val_accuracy: 0.9622\n",
      "Epoch 4/100\n",
      "2500/2500 [==============================] - 11s 5ms/step - loss: 0.1092 - accuracy: 0.9633 - val_loss: 0.1065 - val_accuracy: 0.9633\n",
      "Epoch 5/100\n",
      "2500/2500 [==============================] - 11s 5ms/step - loss: 0.1047 - accuracy: 0.9651 - val_loss: 0.1024 - val_accuracy: 0.9654\n",
      "Epoch 6/100\n",
      "2500/2500 [==============================] - 12s 5ms/step - loss: 0.1025 - accuracy: 0.9654 - val_loss: 0.1000 - val_accuracy: 0.9668\n",
      "Epoch 7/100\n",
      "2500/2500 [==============================] - 11s 5ms/step - loss: 0.1010 - accuracy: 0.9659 - val_loss: 0.0985 - val_accuracy: 0.9663\n",
      "Epoch 8/100\n",
      "2500/2500 [==============================] - 14s 6ms/step - loss: 0.0985 - accuracy: 0.9672 - val_loss: 0.0973 - val_accuracy: 0.9662\n",
      "Epoch 9/100\n",
      "2500/2500 [==============================] - 14s 5ms/step - loss: 0.0965 - accuracy: 0.9673 - val_loss: 0.0940 - val_accuracy: 0.9681\n",
      "Epoch 10/100\n",
      "2500/2500 [==============================] - 14s 5ms/step - loss: 0.0946 - accuracy: 0.9682 - val_loss: 0.0926 - val_accuracy: 0.9678\n",
      "Epoch 11/100\n",
      "2500/2500 [==============================] - 14s 5ms/step - loss: 0.0930 - accuracy: 0.9685 - val_loss: 0.0914 - val_accuracy: 0.9689\n",
      "Epoch 12/100\n",
      "2500/2500 [==============================] - 12s 5ms/step - loss: 0.0920 - accuracy: 0.9691 - val_loss: 0.0914 - val_accuracy: 0.9684\n",
      "Epoch 13/100\n",
      "2500/2500 [==============================] - 12s 5ms/step - loss: 0.0913 - accuracy: 0.9693 - val_loss: 0.0899 - val_accuracy: 0.9686\n",
      "Epoch 14/100\n",
      "2500/2500 [==============================] - 13s 5ms/step - loss: 0.0912 - accuracy: 0.9697 - val_loss: 0.0892 - val_accuracy: 0.9700\n",
      "Epoch 15/100\n",
      "2500/2500 [==============================] - 9s 4ms/step - loss: 0.0904 - accuracy: 0.9698 - val_loss: 0.0887 - val_accuracy: 0.9700\n",
      "Epoch 16/100\n",
      "2500/2500 [==============================] - 7s 3ms/step - loss: 0.0897 - accuracy: 0.9701 - val_loss: 0.0888 - val_accuracy: 0.9695\n",
      "Epoch 17/100\n",
      "2500/2500 [==============================] - 7s 3ms/step - loss: 0.0891 - accuracy: 0.9699 - val_loss: 0.0877 - val_accuracy: 0.9701\n",
      "Epoch 18/100\n",
      "2500/2500 [==============================] - 7s 3ms/step - loss: 0.0891 - accuracy: 0.9700 - val_loss: 0.0877 - val_accuracy: 0.9703\n",
      "Epoch 19/100\n",
      "2500/2500 [==============================] - 7s 3ms/step - loss: 0.0889 - accuracy: 0.9702 - val_loss: 0.0869 - val_accuracy: 0.9704\n",
      "Epoch 20/100\n",
      "2500/2500 [==============================] - 7s 3ms/step - loss: 0.0886 - accuracy: 0.9707 - val_loss: 0.0865 - val_accuracy: 0.9711\n",
      "Epoch 21/100\n",
      "2500/2500 [==============================] - 11s 4ms/step - loss: 0.0879 - accuracy: 0.9706 - val_loss: 0.0874 - val_accuracy: 0.9707\n",
      "Epoch 22/100\n",
      "2500/2500 [==============================] - 13s 5ms/step - loss: 0.0875 - accuracy: 0.9706 - val_loss: 0.0865 - val_accuracy: 0.9711\n",
      "Epoch 23/100\n",
      "2500/2500 [==============================] - 12s 5ms/step - loss: 0.0876 - accuracy: 0.9707 - val_loss: 0.0858 - val_accuracy: 0.9716\n",
      "Epoch 24/100\n",
      "2500/2500 [==============================] - 12s 5ms/step - loss: 0.0871 - accuracy: 0.9707 - val_loss: 0.0858 - val_accuracy: 0.9714\n",
      "Epoch 25/100\n",
      "2500/2500 [==============================] - 12s 5ms/step - loss: 0.0867 - accuracy: 0.9708 - val_loss: 0.0857 - val_accuracy: 0.9716\n",
      "Epoch 26/100\n",
      "2500/2500 [==============================] - 12s 5ms/step - loss: 0.0864 - accuracy: 0.9712 - val_loss: 0.0856 - val_accuracy: 0.9714\n",
      "Epoch 27/100\n",
      "2500/2500 [==============================] - 12s 5ms/step - loss: 0.0864 - accuracy: 0.9712 - val_loss: 0.0853 - val_accuracy: 0.9712\n",
      "Epoch 28/100\n",
      "2500/2500 [==============================] - 13s 5ms/step - loss: 0.0863 - accuracy: 0.9710 - val_loss: 0.0857 - val_accuracy: 0.9714\n",
      "Epoch 29/100\n",
      "2500/2500 [==============================] - 9s 4ms/step - loss: 0.0862 - accuracy: 0.9712 - val_loss: 0.0846 - val_accuracy: 0.9715\n",
      "Epoch 30/100\n",
      "2500/2500 [==============================] - 8s 3ms/step - loss: 0.0860 - accuracy: 0.9711 - val_loss: 0.0845 - val_accuracy: 0.9717\n",
      "Epoch 31/100\n",
      "2500/2500 [==============================] - 9s 4ms/step - loss: 0.0858 - accuracy: 0.9712 - val_loss: 0.0846 - val_accuracy: 0.9714\n",
      "Epoch 32/100\n",
      "2500/2500 [==============================] - 11s 4ms/step - loss: 0.0855 - accuracy: 0.9715 - val_loss: 0.0841 - val_accuracy: 0.9719\n",
      "Epoch 33/100\n",
      "2500/2500 [==============================] - 9s 4ms/step - loss: 0.0854 - accuracy: 0.9715 - val_loss: 0.0842 - val_accuracy: 0.9714\n",
      "Epoch 34/100\n",
      "2500/2500 [==============================] - 9s 3ms/step - loss: 0.0855 - accuracy: 0.9714 - val_loss: 0.0838 - val_accuracy: 0.9719\n",
      "Epoch 35/100\n",
      "2500/2500 [==============================] - 9s 3ms/step - loss: 0.0852 - accuracy: 0.9714 - val_loss: 0.0840 - val_accuracy: 0.9714\n",
      "Epoch 36/100\n",
      "2500/2500 [==============================] - 8s 3ms/step - loss: 0.0850 - accuracy: 0.9714 - val_loss: 0.0839 - val_accuracy: 0.9717\n",
      "Epoch 37/100\n",
      "2500/2500 [==============================] - 8s 3ms/step - loss: 0.0850 - accuracy: 0.9718 - val_loss: 0.0843 - val_accuracy: 0.9710\n",
      "Epoch 38/100\n",
      "2500/2500 [==============================] - 9s 3ms/step - loss: 0.0850 - accuracy: 0.9716 - val_loss: 0.0835 - val_accuracy: 0.9718\n",
      "Epoch 39/100\n",
      "2500/2500 [==============================] - 8s 3ms/step - loss: 0.0848 - accuracy: 0.9716 - val_loss: 0.0839 - val_accuracy: 0.9721\n",
      "Epoch 40/100\n",
      "2500/2500 [==============================] - 9s 4ms/step - loss: 0.0848 - accuracy: 0.9717 - val_loss: 0.0833 - val_accuracy: 0.9720\n",
      "Epoch 41/100\n",
      "2500/2500 [==============================] - 11s 4ms/step - loss: 0.0847 - accuracy: 0.9718 - val_loss: 0.0837 - val_accuracy: 0.9716\n",
      "Epoch 42/100\n",
      "2500/2500 [==============================] - 11s 5ms/step - loss: 0.0843 - accuracy: 0.9717 - val_loss: 0.0832 - val_accuracy: 0.9719\n",
      "Epoch 43/100\n",
      "2500/2500 [==============================] - 11s 4ms/step - loss: 0.0846 - accuracy: 0.9716 - val_loss: 0.0833 - val_accuracy: 0.9717\n",
      "Epoch 44/100\n",
      "2500/2500 [==============================] - 8s 3ms/step - loss: 0.0845 - accuracy: 0.9718 - val_loss: 0.0837 - val_accuracy: 0.9719\n",
      "Epoch 45/100\n",
      "2500/2500 [==============================] - 10s 4ms/step - loss: 0.0843 - accuracy: 0.9718 - val_loss: 0.0832 - val_accuracy: 0.9719\n",
      "Epoch 46/100\n",
      "2500/2500 [==============================] - 7s 3ms/step - loss: 0.0845 - accuracy: 0.9716 - val_loss: 0.0833 - val_accuracy: 0.9718\n",
      "Epoch 47/100\n",
      "2500/2500 [==============================] - 9s 4ms/step - loss: 0.0841 - accuracy: 0.9717 - val_loss: 0.0835 - val_accuracy: 0.9717\n",
      "Epoch 48/100\n",
      "2500/2500 [==============================] - 8s 3ms/step - loss: 0.0841 - accuracy: 0.9719 - val_loss: 0.0833 - val_accuracy: 0.9718\n",
      "Epoch 49/100\n",
      "2500/2500 [==============================] - 9s 4ms/step - loss: 0.0840 - accuracy: 0.9717 - val_loss: 0.0831 - val_accuracy: 0.9724\n",
      "Epoch 50/100\n",
      "2500/2500 [==============================] - 10s 4ms/step - loss: 0.0840 - accuracy: 0.9719 - val_loss: 0.0829 - val_accuracy: 0.9720\n",
      "Epoch 51/100\n",
      "2500/2500 [==============================] - 10s 4ms/step - loss: 0.0840 - accuracy: 0.9720 - val_loss: 0.0832 - val_accuracy: 0.9718\n",
      "Epoch 52/100\n",
      "2500/2500 [==============================] - 9s 4ms/step - loss: 0.0839 - accuracy: 0.9719 - val_loss: 0.0828 - val_accuracy: 0.9723\n",
      "Epoch 53/100\n",
      "2500/2500 [==============================] - 9s 4ms/step - loss: 0.0837 - accuracy: 0.9717 - val_loss: 0.0827 - val_accuracy: 0.9721\n",
      "Epoch 54/100\n",
      "2500/2500 [==============================] - 10s 4ms/step - loss: 0.0835 - accuracy: 0.9716 - val_loss: 0.0829 - val_accuracy: 0.9721\n",
      "Epoch 55/100\n",
      "2500/2500 [==============================] - 10s 4ms/step - loss: 0.0835 - accuracy: 0.9719 - val_loss: 0.0828 - val_accuracy: 0.9718\n",
      "Epoch 56/100\n",
      "2500/2500 [==============================] - 10s 4ms/step - loss: 0.0837 - accuracy: 0.9718 - val_loss: 0.0831 - val_accuracy: 0.9724\n",
      "Epoch 57/100\n",
      "2500/2500 [==============================] - 9s 4ms/step - loss: 0.0837 - accuracy: 0.9719 - val_loss: 0.0827 - val_accuracy: 0.9724\n",
      "Epoch 58/100\n",
      "2500/2500 [==============================] - 8s 3ms/step - loss: 0.0838 - accuracy: 0.9720 - val_loss: 0.0828 - val_accuracy: 0.9719\n",
      "Epoch 59/100\n",
      "2500/2500 [==============================] - 8s 3ms/step - loss: 0.0836 - accuracy: 0.9718 - val_loss: 0.0828 - val_accuracy: 0.9722\n",
      "Epoch 60/100\n",
      "2500/2500 [==============================] - 9s 3ms/step - loss: 0.0836 - accuracy: 0.9719 - val_loss: 0.0830 - val_accuracy: 0.9717\n",
      "Epoch 61/100\n",
      "2500/2500 [==============================] - 11s 5ms/step - loss: 0.0836 - accuracy: 0.9718 - val_loss: 0.0826 - val_accuracy: 0.9722\n",
      "Epoch 62/100\n",
      "2500/2500 [==============================] - 10s 4ms/step - loss: 0.0836 - accuracy: 0.9719 - val_loss: 0.0826 - val_accuracy: 0.9722\n",
      "Epoch 63/100\n",
      "2500/2500 [==============================] - 9s 4ms/step - loss: 0.0836 - accuracy: 0.9718 - val_loss: 0.0824 - val_accuracy: 0.9722\n",
      "Epoch 64/100\n",
      "2500/2500 [==============================] - 8s 3ms/step - loss: 0.0833 - accuracy: 0.9721 - val_loss: 0.0826 - val_accuracy: 0.9721\n",
      "Epoch 65/100\n",
      "2500/2500 [==============================] - 7s 3ms/step - loss: 0.0832 - accuracy: 0.9719 - val_loss: 0.0830 - val_accuracy: 0.9722\n",
      "Epoch 66/100\n",
      "2500/2500 [==============================] - 12s 5ms/step - loss: 0.0833 - accuracy: 0.9720 - val_loss: 0.0826 - val_accuracy: 0.9719\n",
      "Epoch 67/100\n",
      "2500/2500 [==============================] - 9s 4ms/step - loss: 0.0833 - accuracy: 0.9719 - val_loss: 0.0826 - val_accuracy: 0.9721\n",
      "Epoch 68/100\n",
      "2500/2500 [==============================] - 9s 3ms/step - loss: 0.0833 - accuracy: 0.9720 - val_loss: 0.0828 - val_accuracy: 0.9720\n",
      "Epoch 69/100\n",
      "2500/2500 [==============================] - 11s 4ms/step - loss: 0.0832 - accuracy: 0.9719 - val_loss: 0.0823 - val_accuracy: 0.9722\n",
      "Epoch 70/100\n",
      "2500/2500 [==============================] - 12s 5ms/step - loss: 0.0832 - accuracy: 0.9720 - val_loss: 0.0826 - val_accuracy: 0.9722\n",
      "Epoch 71/100\n",
      "2500/2500 [==============================] - 14s 5ms/step - loss: 0.0831 - accuracy: 0.9721 - val_loss: 0.0824 - val_accuracy: 0.9722\n",
      "Epoch 72/100\n",
      "2500/2500 [==============================] - 12s 5ms/step - loss: 0.0832 - accuracy: 0.9720 - val_loss: 0.0823 - val_accuracy: 0.9721\n",
      "Epoch 73/100\n",
      "2500/2500 [==============================] - 11s 5ms/step - loss: 0.0831 - accuracy: 0.9718 - val_loss: 0.0824 - val_accuracy: 0.9722\n",
      "Epoch 74/100\n",
      "2500/2500 [==============================] - 12s 5ms/step - loss: 0.0832 - accuracy: 0.9720 - val_loss: 0.0824 - val_accuracy: 0.9721\n",
      "Epoch 75/100\n",
      "2500/2500 [==============================] - 12s 5ms/step - loss: 0.0830 - accuracy: 0.9718 - val_loss: 0.0824 - val_accuracy: 0.9724\n",
      "Epoch 76/100\n",
      "2500/2500 [==============================] - 10s 4ms/step - loss: 0.0829 - accuracy: 0.9718 - val_loss: 0.0823 - val_accuracy: 0.9722\n",
      "Epoch 77/100\n",
      "2500/2500 [==============================] - 9s 4ms/step - loss: 0.0829 - accuracy: 0.9721 - val_loss: 0.0822 - val_accuracy: 0.9724\n",
      "Epoch 78/100\n",
      "2500/2500 [==============================] - 11s 4ms/step - loss: 0.0831 - accuracy: 0.9718 - val_loss: 0.0822 - val_accuracy: 0.9724\n",
      "Epoch 79/100\n",
      "2500/2500 [==============================] - 10s 4ms/step - loss: 0.0827 - accuracy: 0.9719 - val_loss: 0.0824 - val_accuracy: 0.9722\n",
      "Epoch 80/100\n",
      "2500/2500 [==============================] - 13s 5ms/step - loss: 0.0827 - accuracy: 0.9723 - val_loss: 0.0822 - val_accuracy: 0.9720\n",
      "Epoch 81/100\n",
      "2500/2500 [==============================] - 13s 5ms/step - loss: 0.0831 - accuracy: 0.9720 - val_loss: 0.0826 - val_accuracy: 0.9719\n",
      "Epoch 82/100\n",
      "2500/2500 [==============================] - 10s 4ms/step - loss: 0.0828 - accuracy: 0.9719 - val_loss: 0.0823 - val_accuracy: 0.9723\n",
      "Epoch 83/100\n",
      "2500/2500 [==============================] - 11s 4ms/step - loss: 0.0829 - accuracy: 0.9721 - val_loss: 0.0823 - val_accuracy: 0.9722\n",
      "Epoch 84/100\n",
      "2500/2500 [==============================] - 11s 5ms/step - loss: 0.0829 - accuracy: 0.9720 - val_loss: 0.0819 - val_accuracy: 0.9722\n",
      "Epoch 85/100\n",
      "2500/2500 [==============================] - 9s 4ms/step - loss: 0.0828 - accuracy: 0.9722 - val_loss: 0.0824 - val_accuracy: 0.9722\n",
      "Epoch 86/100\n",
      "2500/2500 [==============================] - 8s 3ms/step - loss: 0.0828 - accuracy: 0.9719 - val_loss: 0.0821 - val_accuracy: 0.9724\n",
      "Epoch 87/100\n",
      "2500/2500 [==============================] - 11s 4ms/step - loss: 0.0829 - accuracy: 0.9720 - val_loss: 0.0829 - val_accuracy: 0.9721\n",
      "Epoch 88/100\n",
      "2500/2500 [==============================] - 9s 4ms/step - loss: 0.0828 - accuracy: 0.9721 - val_loss: 0.0821 - val_accuracy: 0.9722\n",
      "Epoch 89/100\n",
      "2500/2500 [==============================] - 8s 3ms/step - loss: 0.0827 - accuracy: 0.9721 - val_loss: 0.0821 - val_accuracy: 0.9722\n",
      "Epoch 90/100\n",
      "2500/2500 [==============================] - 8s 3ms/step - loss: 0.0828 - accuracy: 0.9721 - val_loss: 0.0821 - val_accuracy: 0.9719\n",
      "Epoch 91/100\n",
      "2500/2500 [==============================] - 11s 4ms/step - loss: 0.0826 - accuracy: 0.9721 - val_loss: 0.0822 - val_accuracy: 0.9721\n",
      "Epoch 92/100\n",
      "2500/2500 [==============================] - 10s 4ms/step - loss: 0.0828 - accuracy: 0.9720 - val_loss: 0.0821 - val_accuracy: 0.9722\n",
      "Epoch 93/100\n",
      "2500/2500 [==============================] - 8s 3ms/step - loss: 0.0825 - accuracy: 0.9722 - val_loss: 0.0821 - val_accuracy: 0.9722\n",
      "Epoch 94/100\n",
      "2500/2500 [==============================] - 7s 3ms/step - loss: 0.0828 - accuracy: 0.9720 - val_loss: 0.0822 - val_accuracy: 0.9721\n",
      "Epoch 95/100\n",
      "2500/2500 [==============================] - 11s 4ms/step - loss: 0.0827 - accuracy: 0.9720 - val_loss: 0.0821 - val_accuracy: 0.9724\n",
      "Epoch 96/100\n",
      "2500/2500 [==============================] - 9s 4ms/step - loss: 0.0826 - accuracy: 0.9721 - val_loss: 0.0820 - val_accuracy: 0.9720\n",
      "Epoch 97/100\n",
      "2500/2500 [==============================] - 11s 5ms/step - loss: 0.0825 - accuracy: 0.9719 - val_loss: 0.0820 - val_accuracy: 0.9724\n",
      "Epoch 98/100\n",
      "2500/2500 [==============================] - 12s 5ms/step - loss: 0.0826 - accuracy: 0.9720 - val_loss: 0.0820 - val_accuracy: 0.9724\n",
      "Epoch 99/100\n",
      "2500/2500 [==============================] - 10s 4ms/step - loss: 0.0826 - accuracy: 0.9721 - val_loss: 0.0821 - val_accuracy: 0.9722\n",
      "Epoch 100/100\n",
      "2500/2500 [==============================] - 11s 4ms/step - loss: 0.0825 - accuracy: 0.9721 - val_loss: 0.0820 - val_accuracy: 0.9722\n"
     ]
    },
    {
     "data": {
      "text/plain": [
       "<keras.src.callbacks.History at 0x260543dde20>"
      ]
     },
     "execution_count": 20,
     "metadata": {},
     "output_type": "execute_result"
    }
   ],
   "source": [
    "# Treinar o modelo\n",
    "model.fit(X_train, y_train, epochs=100, batch_size=32, validation_data=(X_test, y_test))\n"
   ]
  },
  {
   "cell_type": "code",
   "execution_count": 21,
   "metadata": {},
   "outputs": [
    {
     "name": "stdout",
     "output_type": "stream",
     "text": [
      "625/625 [==============================] - 2s 2ms/step\n"
     ]
    }
   ],
   "source": [
    "# Fazer previsões\n",
    "predictions = model.predict(X_test).round()"
   ]
  },
  {
   "cell_type": "code",
   "execution_count": 22,
   "metadata": {},
   "outputs": [
    {
     "name": "stdout",
     "output_type": "stream",
     "text": [
      "              precision    recall  f1-score   support\n",
      "\n",
      "           0       0.97      1.00      0.99     18292\n",
      "           1       0.99      0.68      0.81      1708\n",
      "\n",
      "    accuracy                           0.97     20000\n",
      "   macro avg       0.98      0.84      0.90     20000\n",
      "weighted avg       0.97      0.97      0.97     20000\n",
      "\n",
      "Accuracy: 0.9722\n"
     ]
    }
   ],
   "source": [
    "# Avaliação do modelo\n",
    "print(classification_report(y_test, predictions))\n",
    "print(\"Accuracy:\", accuracy_score(y_test, predictions))"
   ]
  },
  {
   "cell_type": "code",
   "execution_count": 23,
   "metadata": {},
   "outputs": [],
   "source": [
    "# Matriz de confusão e Índice Kappa\n",
    "conf_matrix = confusion_matrix(y_test, predictions)\n",
    "kappa_score = cohen_kappa_score(y_test, predictions)"
   ]
  },
  {
   "cell_type": "code",
   "execution_count": 24,
   "metadata": {},
   "outputs": [
    {
     "name": "stdout",
     "output_type": "stream",
     "text": [
      "Matriz de Confusão:\n",
      "[[18280    12]\n",
      " [  544  1164]]\n",
      "Índice Kappa: 0.7927800391422107\n"
     ]
    }
   ],
   "source": [
    "print(\"Matriz de Confusão:\")\n",
    "print(conf_matrix)\n",
    "print(\"Índice Kappa:\", kappa_score)"
   ]
  },
  {
   "cell_type": "code",
   "execution_count": 31,
   "metadata": {},
   "outputs": [
    {
     "data": {
      "image/png": "[encoded data removed]",
      "text/plain": [
       "<Figure size 600x400 with 2 Axes>"
      ]
     },
     "metadata": {},
     "output_type": "display_data"
    }
   ],
   "source": [
    "# Criar um plot da matriz de confusão usando seaborn\n",
    "plt.figure(figsize=(6, 4))\n",
    "sns.heatmap(conf_matrix, annot=True, fmt='d', cmap='Blues', xticklabels=['Classe 0', 'Classe 1'], yticklabels=['Classe 0', 'Classe 1'])\n",
    "plt.xlabel('Previsões')\n",
    "plt.ylabel('Real')\n",
    "plt.title('Matriz de Confusão LSTM')\n",
    "plt.show()"
   ]
  }
 ],
 "metadata": {
  "kernelspec": {
   "display_name": "Python 3",
   "language": "python",
   "name": "python3"
  },
  "language_info": {
   "codemirror_mode": {
    "name": "ipython",
    "version": 3
   },
   "file_extension": ".py",
   "mimetype": "text/x-python",
   "name": "python",
   "nbconvert_exporter": "python",
   "pygments_lexer": "ipython3",
   "version": "3.9.0"
  }
 },
 "nbformat": 4,
 "nbformat_minor": 2
}
