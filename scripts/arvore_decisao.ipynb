{
 "cells": [
  {
   "cell_type": "code",
   "execution_count": 1,
   "metadata": {},
   "outputs": [],
   "source": [
    "import pandas as pd\n",
    "from sklearn.tree import DecisionTreeClassifier, export_text\n",
    "from sklearn.model_selection import train_test_split\n",
    "from sklearn.metrics import confusion_matrix, cohen_kappa_score\n",
    "import matplotlib.pyplot as plt\n",
    "import seaborn as sns"
   ]
  },
  {
   "cell_type": "code",
   "execution_count": 2,
   "metadata": {},
   "outputs": [],
   "source": [
    "# Ler o arquivo CSV com as colunas na primeira linha\n",
    "df = pd.read_csv('../data/diabetes_prediction_weka.csv')"
   ]
  },
  {
   "cell_type": "code",
   "execution_count": 3,
   "metadata": {},
   "outputs": [],
   "source": [
    "df = df.drop('gender', axis=1)\n",
    "df = df.drop('smoking_history', axis=1)"
   ]
  },
  {
   "cell_type": "code",
   "execution_count": 4,
   "metadata": {},
   "outputs": [],
   "source": [
    "# Identificar automaticamente as características e a classe\n",
    "features = list(df.columns[:-1])\n",
    "target = df.columns[-1]"
   ]
  },
  {
   "cell_type": "code",
   "execution_count": 5,
   "metadata": {},
   "outputs": [
    {
     "data": {
      "text/plain": [
       "(['age',\n",
       "  'hypertension',\n",
       "  'heart_disease',\n",
       "  'bmi',\n",
       "  'HbA1c_level',\n",
       "  'blood_glucose_level'],\n",
       " 'class')"
      ]
     },
     "execution_count": 5,
     "metadata": {},
     "output_type": "execute_result"
    }
   ],
   "source": [
    "features, target"
   ]
  },
  {
   "cell_type": "code",
   "execution_count": 6,
   "metadata": {},
   "outputs": [],
   "source": [
    "# Separar os dados em características (X) e rótulos (y)\n",
    "X = df[features]\n",
    "y = df[target]"
   ]
  },
  {
   "cell_type": "code",
   "execution_count": 7,
   "metadata": {},
   "outputs": [],
   "source": [
    "# Dividir o conjunto de dados em conjuntos de treinamento e teste\n",
    "X_train, X_test, y_train, y_test = train_test_split(X, y, test_size=0.3, random_state=42)"
   ]
  },
  {
   "cell_type": "code",
   "execution_count": 8,
   "metadata": {},
   "outputs": [],
   "source": [
    "# Criar o modelo de árvore de decisão C4.5\n",
    "clf = DecisionTreeClassifier(criterion='entropy', random_state=42)"
   ]
  },
  {
   "cell_type": "code",
   "execution_count": 9,
   "metadata": {},
   "outputs": [
    {
     "data": {
      "text/html": [
       "<style>#sk-container-id-1 {color: black;}#sk-container-id-1 pre{padding: 0;}#sk-container-id-1 div.sk-toggleable {background-color: white;}#sk-container-id-1 label.sk-toggleable__label {cursor: pointer;display: block;width: 100%;margin-bottom: 0;padding: 0.3em;box-sizing: border-box;text-align: center;}#sk-container-id-1 label.sk-toggleable__label-arrow:before {content: \"▸\";float: left;margin-right: 0.25em;color: #696969;}#sk-container-id-1 label.sk-toggleable__label-arrow:hover:before {color: black;}#sk-container-id-1 div.sk-estimator:hover label.sk-toggleable__label-arrow:before {color: black;}#sk-container-id-1 div.sk-toggleable__content {max-height: 0;max-width: 0;overflow: hidden;text-align: left;background-color: #f0f8ff;}#sk-container-id-1 div.sk-toggleable__content pre {margin: 0.2em;color: black;border-radius: 0.25em;background-color: #f0f8ff;}#sk-container-id-1 input.sk-toggleable__control:checked~div.sk-toggleable__content {max-height: 200px;max-width: 100%;overflow: auto;}#sk-container-id-1 input.sk-toggleable__control:checked~label.sk-toggleable__label-arrow:before {content: \"▾\";}#sk-container-id-1 div.sk-estimator input.sk-toggleable__control:checked~label.sk-toggleable__label {background-color: #d4ebff;}#sk-container-id-1 div.sk-label input.sk-toggleable__control:checked~label.sk-toggleable__label {background-color: #d4ebff;}#sk-container-id-1 input.sk-hidden--visually {border: 0;clip: rect(1px 1px 1px 1px);clip: rect(1px, 1px, 1px, 1px);height: 1px;margin: -1px;overflow: hidden;padding: 0;position: absolute;width: 1px;}#sk-container-id-1 div.sk-estimator {font-family: monospace;background-color: #f0f8ff;border: 1px dotted black;border-radius: 0.25em;box-sizing: border-box;margin-bottom: 0.5em;}#sk-container-id-1 div.sk-estimator:hover {background-color: #d4ebff;}#sk-container-id-1 div.sk-parallel-item::after {content: \"\";width: 100%;border-bottom: 1px solid gray;flex-grow: 1;}#sk-container-id-1 div.sk-label:hover label.sk-toggleable__label {background-color: #d4ebff;}#sk-container-id-1 div.sk-serial::before {content: \"\";position: absolute;border-left: 1px solid gray;box-sizing: border-box;top: 0;bottom: 0;left: 50%;z-index: 0;}#sk-container-id-1 div.sk-serial {display: flex;flex-direction: column;align-items: center;background-color: white;padding-right: 0.2em;padding-left: 0.2em;position: relative;}#sk-container-id-1 div.sk-item {position: relative;z-index: 1;}#sk-container-id-1 div.sk-parallel {display: flex;align-items: stretch;justify-content: center;background-color: white;position: relative;}#sk-container-id-1 div.sk-item::before, #sk-container-id-1 div.sk-parallel-item::before {content: \"\";position: absolute;border-left: 1px solid gray;box-sizing: border-box;top: 0;bottom: 0;left: 50%;z-index: -1;}#sk-container-id-1 div.sk-parallel-item {display: flex;flex-direction: column;z-index: 1;position: relative;background-color: white;}#sk-container-id-1 div.sk-parallel-item:first-child::after {align-self: flex-end;width: 50%;}#sk-container-id-1 div.sk-parallel-item:last-child::after {align-self: flex-start;width: 50%;}#sk-container-id-1 div.sk-parallel-item:only-child::after {width: 0;}#sk-container-id-1 div.sk-dashed-wrapped {border: 1px dashed gray;margin: 0 0.4em 0.5em 0.4em;box-sizing: border-box;padding-bottom: 0.4em;background-color: white;}#sk-container-id-1 div.sk-label label {font-family: monospace;font-weight: bold;display: inline-block;line-height: 1.2em;}#sk-container-id-1 div.sk-label-container {text-align: center;}#sk-container-id-1 div.sk-container {/* jupyter's `normalize.less` sets `[hidden] { display: none; }` but bootstrap.min.css set `[hidden] { display: none !important; }` so we also need the `!important` here to be able to override the default hidden behavior on the sphinx rendered scikit-learn.org. See: https://github.com/scikit-learn/scikit-learn/issues/21755 */display: inline-block !important;position: relative;}#sk-container-id-1 div.sk-text-repr-fallback {display: none;}</style><div id=\"sk-container-id-1\" class=\"sk-top-container\"><div class=\"sk-text-repr-fallback\"><pre>DecisionTreeClassifier(criterion=&#x27;entropy&#x27;, random_state=42)</pre><b>In a Jupyter environment, please rerun this cell to show the HTML representation or trust the notebook. <br />On GitHub, the HTML representation is unable to render, please try loading this page with nbviewer.org.</b></div><div class=\"sk-container\" hidden><div class=\"sk-item\"><div class=\"sk-estimator sk-toggleable\"><input class=\"sk-toggleable__control sk-hidden--visually\" id=\"sk-estimator-id-1\" type=\"checkbox\" checked><label for=\"sk-estimator-id-1\" class=\"sk-toggleable__label sk-toggleable__label-arrow\">DecisionTreeClassifier</label><div class=\"sk-toggleable__content\"><pre>DecisionTreeClassifier(criterion=&#x27;entropy&#x27;, random_state=42)</pre></div></div></div></div></div>"
      ],
      "text/plain": [
       "DecisionTreeClassifier(criterion='entropy', random_state=42)"
      ]
     },
     "execution_count": 9,
     "metadata": {},
     "output_type": "execute_result"
    }
   ],
   "source": [
    "# Treinar o modelo usando os dados de treinamento\n",
    "clf.fit(X_train, y_train)"
   ]
  },
  {
   "cell_type": "code",
   "execution_count": 10,
   "metadata": {},
   "outputs": [
    {
     "name": "stdout",
     "output_type": "stream",
     "text": [
      "Acurácia Arvore de decisão: 0.9707142857142858\n"
     ]
    }
   ],
   "source": [
    "# Testar o modelo usando os dados de teste\n",
    "accuracy = clf.score(X_test, y_test)\n",
    "print(\"Acurácia Arvore de decisão:\", accuracy)"
   ]
  },
  {
   "cell_type": "code",
   "execution_count": 11,
   "metadata": {},
   "outputs": [
    {
     "name": "stdout",
     "output_type": "stream",
     "text": [
      "|--- HbA1c_level <= 6.60\n",
      "|   |--- blood_glucose_level <= 210.00\n",
      "|   |   |--- HbA1c_level <= 5.35\n",
      "|   |   |   |--- class: 0\n",
      "|   |   |--- HbA1c_level >  5.35\n",
      "|   |   |   |--- age <= 39.00\n",
      "|   |   |   |   |--- hypertension <= 0.00\n",
      "|   |   |   |   |   |--- blood_glucose_level <= 113.00\n",
      "|   |   |   |   |   |   |--- class: 0\n",
      "|   |   |   |   |   |--- blood_glucose_level >  113.00\n",
      "|   |   |   |   |   |   |--- age <= 26.01\n",
      "|   |   |   |   |   |   |   |--- age <= 10.02\n",
      "|   |   |   |   |   |   |   |   |--- age <= 3.17\n",
      "|   |   |   |   |   |   |   |   |   |--- blood_glucose_level <= 180.00\n",
      "|   |   |   |   |   |   |   |   |   |   |--- class: 0\n",
      "|   |   |   |   |   |   |   |   |   |--- blood_glucose_level >  180.00\n",
      "|   |   |   |   |   |   |   |   |   |   |--- bmi <= 25.67\n",
      "|   |   |   |   |   |   |   |   |   |   |   |--- class: 0\n",
      "|   |   |   |   |   |   |   |   |   |   |--- bmi >  25.67\n",
      "|   |   |   |   |   |   |   |   |   |   |   |--- truncated branch of depth 2\n",
      "|   |   |   |   |   |   |   |   |--- age >  3.17\n",
      "|   |   |   |   |   |   |   |   |   |--- age <= 4.00\n",
      "|   |   |   |   |   |   |   |   |   |   |--- class: 1\n",
      "|   |   |   |   |   |   |   |   |   |--- age >  4.00\n",
      "|   |   |   |   |   |   |   |   |   |   |--- blood_glucose_level <= 142.50\n",
      "|   |   |   |   |   |   |   |   |   |   |   |--- truncated branch of depth 11\n",
      "|   |   |   |   |   |   |   |   |   |   |--- blood_glucose_level >  142.50\n",
      "|   |   |   |   |   |   |   |   |   |   |   |--- truncated branch of depth 12\n",
      "|   |   |   |   |   |   |   |--- age >  10.02\n",
      "|   |   |   |   |   |   |   |   |--- HbA1c_level <= 6.21\n",
      "|   |   |   |   |   |   |   |   |   |--- age <= 10.88\n",
      "|   |   |   |   |   |   |   |   |   |   |--- class: 1\n",
      "|   |   |   |   |   |   |   |   |   |--- age >  10.88\n",
      "|   |   |   |   |   |   |   |   |   |   |--- HbA1c_level <= 5.70\n",
      "|   |   |   |   |   |   |   |   |   |   |   |--- truncated branch of depth 10\n",
      "|   |   |   |   |   |   |   |   |   |   |--- HbA1c_level >  5.70\n",
      "|   |   |   |   |   |   |   |   |   |   |   |--- truncated branch of depth 17\n",
      "|   |   |   |   |   |   |   |   |--- HbA1c_level >  6.21\n",
      "|   |   |   |   |   |   |   |   |   |--- HbA1c_level <= 6.50\n",
      "|   |   |   |   |   |   |   |   |   |   |--- class: 1\n",
      "|   |   |   |   |   |   |   |   |   |--- HbA1c_level >  6.50\n",
      "|   |   |   |   |   |   |   |   |   |   |--- HbA1c_level <= 6.50\n",
      "|   |   |   |   |   |   |   |   |   |   |   |--- truncated branch of depth 12\n",
      "|   |   |   |   |   |   |   |   |   |   |--- HbA1c_level >  6.50\n",
      "|   |   |   |   |   |   |   |   |   |   |   |--- truncated branch of depth 12\n",
      "|   |   |   |   |   |   |--- age >  26.01\n",
      "|   |   |   |   |   |   |   |--- bmi <= 32.11\n",
      "|   |   |   |   |   |   |   |   |--- age <= 26.94\n",
      "|   |   |   |   |   |   |   |   |   |--- class: 1\n",
      "|   |   |   |   |   |   |   |   |--- age >  26.94\n",
      "|   |   |   |   |   |   |   |   |   |--- bmi <= 25.17\n",
      "|   |   |   |   |   |   |   |   |   |   |--- blood_glucose_level <= 156.50\n",
      "|   |   |   |   |   |   |   |   |   |   |   |--- truncated branch of depth 11\n",
      "|   |   |   |   |   |   |   |   |   |   |--- blood_glucose_level >  156.50\n",
      "|   |   |   |   |   |   |   |   |   |   |   |--- truncated branch of depth 7\n",
      "|   |   |   |   |   |   |   |   |   |--- bmi >  25.17\n",
      "|   |   |   |   |   |   |   |   |   |   |--- HbA1c_level <= 5.70\n",
      "|   |   |   |   |   |   |   |   |   |   |   |--- truncated branch of depth 8\n",
      "|   |   |   |   |   |   |   |   |   |   |--- HbA1c_level >  5.70\n",
      "|   |   |   |   |   |   |   |   |   |   |   |--- truncated branch of depth 20\n",
      "|   |   |   |   |   |   |   |--- bmi >  32.11\n",
      "|   |   |   |   |   |   |   |   |--- HbA1c_level <= 5.70\n",
      "|   |   |   |   |   |   |   |   |   |--- age <= 33.50\n",
      "|   |   |   |   |   |   |   |   |   |   |--- class: 0\n",
      "|   |   |   |   |   |   |   |   |   |--- age >  33.50\n",
      "|   |   |   |   |   |   |   |   |   |   |--- age <= 35.50\n",
      "|   |   |   |   |   |   |   |   |   |   |   |--- truncated branch of depth 5\n",
      "|   |   |   |   |   |   |   |   |   |   |--- age >  35.50\n",
      "|   |   |   |   |   |   |   |   |   |   |   |--- truncated branch of depth 4\n",
      "|   |   |   |   |   |   |   |   |--- HbA1c_level >  5.70\n",
      "|   |   |   |   |   |   |   |   |   |--- HbA1c_level <= 5.80\n",
      "|   |   |   |   |   |   |   |   |   |   |--- class: 1\n",
      "|   |   |   |   |   |   |   |   |   |--- HbA1c_level >  5.80\n",
      "|   |   |   |   |   |   |   |   |   |   |--- bmi <= 38.47\n",
      "|   |   |   |   |   |   |   |   |   |   |   |--- truncated branch of depth 18\n",
      "|   |   |   |   |   |   |   |   |   |   |--- bmi >  38.47\n",
      "|   |   |   |   |   |   |   |   |   |   |   |--- truncated branch of depth 19\n",
      "|   |   |   |   |--- hypertension >  0.00\n",
      "|   |   |   |   |   |--- hypertension <= 1.00\n",
      "|   |   |   |   |   |   |--- class: 1\n",
      "|   |   |   |   |   |--- hypertension >  1.00\n",
      "|   |   |   |   |   |   |--- blood_glucose_level <= 113.00\n",
      "|   |   |   |   |   |   |   |--- class: 0\n",
      "|   |   |   |   |   |   |--- blood_glucose_level >  113.00\n",
      "|   |   |   |   |   |   |   |--- HbA1c_level <= 5.75\n",
      "|   |   |   |   |   |   |   |   |--- class: 0\n",
      "|   |   |   |   |   |   |   |--- HbA1c_level >  5.75\n",
      "|   |   |   |   |   |   |   |   |--- age <= 38.76\n",
      "|   |   |   |   |   |   |   |   |   |--- blood_glucose_level <= 157.30\n",
      "|   |   |   |   |   |   |   |   |   |   |--- bmi <= 29.92\n",
      "|   |   |   |   |   |   |   |   |   |   |   |--- truncated branch of depth 5\n",
      "|   |   |   |   |   |   |   |   |   |   |--- bmi >  29.92\n",
      "|   |   |   |   |   |   |   |   |   |   |   |--- truncated branch of depth 8\n",
      "|   |   |   |   |   |   |   |   |   |--- blood_glucose_level >  157.30\n",
      "|   |   |   |   |   |   |   |   |   |   |--- bmi <= 23.00\n",
      "|   |   |   |   |   |   |   |   |   |   |   |--- class: 1\n",
      "|   |   |   |   |   |   |   |   |   |   |--- bmi >  23.00\n",
      "|   |   |   |   |   |   |   |   |   |   |   |--- truncated branch of depth 7\n",
      "|   |   |   |   |   |   |   |   |--- age >  38.76\n",
      "|   |   |   |   |   |   |   |   |   |--- class: 0\n",
      "|   |   |   |--- age >  39.00\n",
      "|   |   |   |   |--- blood_glucose_level <= 113.00\n",
      "|   |   |   |   |   |--- class: 0\n",
      "|   |   |   |   |--- blood_glucose_level >  113.00\n",
      "|   |   |   |   |   |--- hypertension <= 0.00\n",
      "|   |   |   |   |   |   |--- heart_disease <= 0.00\n",
      "|   |   |   |   |   |   |   |--- bmi <= 27.32\n",
      "|   |   |   |   |   |   |   |   |--- age <= 56.01\n",
      "|   |   |   |   |   |   |   |   |   |--- HbA1c_level <= 5.80\n",
      "|   |   |   |   |   |   |   |   |   |   |--- blood_glucose_level <= 156.50\n",
      "|   |   |   |   |   |   |   |   |   |   |   |--- truncated branch of depth 18\n",
      "|   |   |   |   |   |   |   |   |   |   |--- blood_glucose_level >  156.50\n",
      "|   |   |   |   |   |   |   |   |   |   |   |--- truncated branch of depth 7\n",
      "|   |   |   |   |   |   |   |   |   |--- HbA1c_level >  5.80\n",
      "|   |   |   |   |   |   |   |   |   |   |--- HbA1c_level <= 6.00\n",
      "|   |   |   |   |   |   |   |   |   |   |   |--- class: 1\n",
      "|   |   |   |   |   |   |   |   |   |   |--- HbA1c_level >  6.00\n",
      "|   |   |   |   |   |   |   |   |   |   |   |--- truncated branch of depth 20\n",
      "|   |   |   |   |   |   |   |   |--- age >  56.01\n",
      "|   |   |   |   |   |   |   |   |   |--- HbA1c_level <= 6.60\n",
      "|   |   |   |   |   |   |   |   |   |   |--- HbA1c_level <= 6.50\n",
      "|   |   |   |   |   |   |   |   |   |   |   |--- truncated branch of depth 25\n",
      "|   |   |   |   |   |   |   |   |   |   |--- HbA1c_level >  6.50\n",
      "|   |   |   |   |   |   |   |   |   |   |   |--- class: 1\n",
      "|   |   |   |   |   |   |   |   |   |--- HbA1c_level >  6.60\n",
      "|   |   |   |   |   |   |   |   |   |   |--- blood_glucose_level <= 142.50\n",
      "|   |   |   |   |   |   |   |   |   |   |   |--- truncated branch of depth 15\n",
      "|   |   |   |   |   |   |   |   |   |   |--- blood_glucose_level >  142.50\n",
      "|   |   |   |   |   |   |   |   |   |   |   |--- truncated branch of depth 19\n",
      "|   |   |   |   |   |   |   |--- bmi >  27.32\n",
      "|   |   |   |   |   |   |   |   |--- age <= 54.01\n",
      "|   |   |   |   |   |   |   |   |   |--- bmi <= 39.25\n",
      "|   |   |   |   |   |   |   |   |   |   |--- HbA1c_level <= 5.80\n",
      "|   |   |   |   |   |   |   |   |   |   |   |--- truncated branch of depth 20\n",
      "|   |   |   |   |   |   |   |   |   |   |--- HbA1c_level >  5.80\n",
      "|   |   |   |   |   |   |   |   |   |   |   |--- truncated branch of depth 20\n",
      "|   |   |   |   |   |   |   |   |   |--- bmi >  39.25\n",
      "|   |   |   |   |   |   |   |   |   |   |--- HbA1c_level <= 6.60\n",
      "|   |   |   |   |   |   |   |   |   |   |   |--- truncated branch of depth 20\n",
      "|   |   |   |   |   |   |   |   |   |   |--- HbA1c_level >  6.60\n",
      "|   |   |   |   |   |   |   |   |   |   |   |--- truncated branch of depth 10\n",
      "|   |   |   |   |   |   |   |   |--- age >  54.01\n",
      "|   |   |   |   |   |   |   |   |   |--- HbA1c_level <= 6.60\n",
      "|   |   |   |   |   |   |   |   |   |   |--- HbA1c_level <= 6.50\n",
      "|   |   |   |   |   |   |   |   |   |   |   |--- truncated branch of depth 28\n",
      "|   |   |   |   |   |   |   |   |   |   |--- HbA1c_level >  6.50\n",
      "|   |   |   |   |   |   |   |   |   |   |   |--- class: 1\n",
      "|   |   |   |   |   |   |   |   |   |--- HbA1c_level >  6.60\n",
      "|   |   |   |   |   |   |   |   |   |   |--- bmi <= 30.02\n",
      "|   |   |   |   |   |   |   |   |   |   |   |--- truncated branch of depth 9\n",
      "|   |   |   |   |   |   |   |   |   |   |--- bmi >  30.02\n",
      "|   |   |   |   |   |   |   |   |   |   |   |--- truncated branch of depth 17\n",
      "|   |   |   |   |   |   |--- heart_disease >  0.00\n",
      "|   |   |   |   |   |   |   |--- heart_disease <= 1.00\n",
      "|   |   |   |   |   |   |   |   |--- class: 1\n",
      "|   |   |   |   |   |   |   |--- heart_disease >  1.00\n",
      "|   |   |   |   |   |   |   |   |--- bmi <= 34.79\n",
      "|   |   |   |   |   |   |   |   |   |--- age <= 63.00\n",
      "|   |   |   |   |   |   |   |   |   |   |--- blood_glucose_level <= 128.00\n",
      "|   |   |   |   |   |   |   |   |   |   |   |--- truncated branch of depth 7\n",
      "|   |   |   |   |   |   |   |   |   |   |--- blood_glucose_level >  128.00\n",
      "|   |   |   |   |   |   |   |   |   |   |   |--- truncated branch of depth 13\n",
      "|   |   |   |   |   |   |   |   |   |--- age >  63.00\n",
      "|   |   |   |   |   |   |   |   |   |   |--- bmi <= 20.83\n",
      "|   |   |   |   |   |   |   |   |   |   |   |--- truncated branch of depth 4\n",
      "|   |   |   |   |   |   |   |   |   |   |--- bmi >  20.83\n",
      "|   |   |   |   |   |   |   |   |   |   |   |--- truncated branch of depth 16\n",
      "|   |   |   |   |   |   |   |   |--- bmi >  34.79\n",
      "|   |   |   |   |   |   |   |   |   |--- age <= 46.00\n",
      "|   |   |   |   |   |   |   |   |   |   |--- age <= 40.50\n",
      "|   |   |   |   |   |   |   |   |   |   |   |--- class: 1\n",
      "|   |   |   |   |   |   |   |   |   |   |--- age >  40.50\n",
      "|   |   |   |   |   |   |   |   |   |   |   |--- class: 0\n",
      "|   |   |   |   |   |   |   |   |   |--- age >  46.00\n",
      "|   |   |   |   |   |   |   |   |   |   |--- blood_glucose_level <= 157.81\n",
      "|   |   |   |   |   |   |   |   |   |   |   |--- truncated branch of depth 11\n",
      "|   |   |   |   |   |   |   |   |   |   |--- blood_glucose_level >  157.81\n",
      "|   |   |   |   |   |   |   |   |   |   |   |--- truncated branch of depth 9\n",
      "|   |   |   |   |   |--- hypertension >  0.00\n",
      "|   |   |   |   |   |   |--- hypertension <= 1.00\n",
      "|   |   |   |   |   |   |   |--- class: 1\n",
      "|   |   |   |   |   |   |--- hypertension >  1.00\n",
      "|   |   |   |   |   |   |   |--- heart_disease <= 0.00\n",
      "|   |   |   |   |   |   |   |   |--- age <= 54.00\n",
      "|   |   |   |   |   |   |   |   |   |--- bmi <= 40.67\n",
      "|   |   |   |   |   |   |   |   |   |   |--- bmi <= 26.35\n",
      "|   |   |   |   |   |   |   |   |   |   |   |--- truncated branch of depth 6\n",
      "|   |   |   |   |   |   |   |   |   |   |--- bmi >  26.35\n",
      "|   |   |   |   |   |   |   |   |   |   |   |--- truncated branch of depth 18\n",
      "|   |   |   |   |   |   |   |   |   |--- bmi >  40.67\n",
      "|   |   |   |   |   |   |   |   |   |   |--- age <= 42.50\n",
      "|   |   |   |   |   |   |   |   |   |   |   |--- truncated branch of depth 2\n",
      "|   |   |   |   |   |   |   |   |   |   |--- age >  42.50\n",
      "|   |   |   |   |   |   |   |   |   |   |   |--- truncated branch of depth 13\n",
      "|   |   |   |   |   |   |   |   |--- age >  54.00\n",
      "|   |   |   |   |   |   |   |   |   |--- bmi <= 26.86\n",
      "|   |   |   |   |   |   |   |   |   |   |--- bmi <= 15.08\n",
      "|   |   |   |   |   |   |   |   |   |   |   |--- class: 1\n",
      "|   |   |   |   |   |   |   |   |   |   |--- bmi >  15.08\n",
      "|   |   |   |   |   |   |   |   |   |   |   |--- truncated branch of depth 20\n",
      "|   |   |   |   |   |   |   |   |   |--- bmi >  26.86\n",
      "|   |   |   |   |   |   |   |   |   |   |--- blood_glucose_level <= 159.00\n",
      "|   |   |   |   |   |   |   |   |   |   |   |--- truncated branch of depth 22\n",
      "|   |   |   |   |   |   |   |   |   |   |--- blood_glucose_level >  159.00\n",
      "|   |   |   |   |   |   |   |   |   |   |   |--- truncated branch of depth 16\n",
      "|   |   |   |   |   |   |   |--- heart_disease >  0.00\n",
      "|   |   |   |   |   |   |   |   |--- heart_disease <= 1.00\n",
      "|   |   |   |   |   |   |   |   |   |--- class: 1\n",
      "|   |   |   |   |   |   |   |   |--- heart_disease >  1.00\n",
      "|   |   |   |   |   |   |   |   |   |--- bmi <= 22.18\n",
      "|   |   |   |   |   |   |   |   |   |   |--- blood_glucose_level <= 128.00\n",
      "|   |   |   |   |   |   |   |   |   |   |   |--- truncated branch of depth 2\n",
      "|   |   |   |   |   |   |   |   |   |   |--- blood_glucose_level >  128.00\n",
      "|   |   |   |   |   |   |   |   |   |   |   |--- class: 0\n",
      "|   |   |   |   |   |   |   |   |   |--- bmi >  22.18\n",
      "|   |   |   |   |   |   |   |   |   |   |--- age <= 73.50\n",
      "|   |   |   |   |   |   |   |   |   |   |   |--- truncated branch of depth 15\n",
      "|   |   |   |   |   |   |   |   |   |   |--- age >  73.50\n",
      "|   |   |   |   |   |   |   |   |   |   |   |--- truncated branch of depth 14\n",
      "|   |--- blood_glucose_level >  210.00\n",
      "|   |   |--- class: 1\n",
      "|--- HbA1c_level >  6.60\n",
      "|   |--- class: 1\n",
      "\n"
     ]
    }
   ],
   "source": [
    "# Imprimir as regras da árvore de decisão\n",
    "tree_rules = export_text(clf, feature_names=features)\n",
    "print(tree_rules)"
   ]
  },
  {
   "cell_type": "code",
   "execution_count": 12,
   "metadata": {},
   "outputs": [
    {
     "name": "stdout",
     "output_type": "stream",
     "text": [
      "Matriz de Confusão:\n",
      " [[26524   759]\n",
      " [  717 22400]]\n",
      "Acurácia Arvore de decisão: 0.9707142857142858\n"
     ]
    },
    {
     "data": {
      "image/png": "[encoded data removed]",
      "text/plain": [
       "<Figure size 600x400 with 2 Axes>"
      ]
     },
     "metadata": {},
     "output_type": "display_data"
    }
   ],
   "source": [
    "# Fazer previsões no conjunto de teste\n",
    "y_pred = clf.predict(X_test)\n",
    "\n",
    "# Calcular a matriz de confusão\n",
    "cm = confusion_matrix(y_test, y_pred)\n",
    "\n",
    "# Imprimir a matriz de confusão\n",
    "print(\"Matriz de Confusão:\\n\", cm)\n",
    "\n",
    "# Calcular a acurácia\n",
    "accuracy = clf.score(X_test, y_test)\n",
    "print(\"Acurácia Arvore de decisão:\", accuracy)\n",
    "\n",
    "# Criar um plot da matriz de confusão usando seaborn\n",
    "plt.figure(figsize=(6, 4))\n",
    "sns.heatmap(cm, annot=True, fmt='d', cmap='Blues', xticklabels=clf.classes_, yticklabels=clf.classes_)\n",
    "plt.xlabel('Previsões')\n",
    "plt.ylabel('Real')\n",
    "plt.title('Matriz de Confusão - Árvore de Decisão')\n",
    "plt.show()"
   ]
  },
  {
   "cell_type": "code",
   "execution_count": 13,
   "metadata": {},
   "outputs": [
    {
     "name": "stdout",
     "output_type": "stream",
     "text": [
      "Índice Kappa: 0.9410338104130312\n"
     ]
    }
   ],
   "source": [
    "# Fazer previsões no conjunto de teste\n",
    "y_pred = clf.predict(X_test)\n",
    "\n",
    "# Calcular o índice kappa\n",
    "kappa = cohen_kappa_score(y_test, y_pred)\n",
    "\n",
    "# Imprimir o índice kappa\n",
    "print(\"Índice Kappa:\", kappa)"
   ]
  }
 ],
 "metadata": {
  "kernelspec": {
   "display_name": "Python 3",
   "language": "python",
   "name": "python3"
  },
  "language_info": {
   "codemirror_mode": {
    "name": "ipython",
    "version": 3
   },
   "file_extension": ".py",
   "mimetype": "text/x-python",
   "name": "python",
   "nbconvert_exporter": "python",
   "pygments_lexer": "ipython3",
   "version": "3.9.0"
  }
 },
 "nbformat": 4,
 "nbformat_minor": 2
}
