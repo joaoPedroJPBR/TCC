{
 "cells": [
  {
   "cell_type": "code",
   "execution_count": 43,
   "metadata": {},
   "outputs": [],
   "source": [
    "import pandas as pd\n",
    "from sklearn.model_selection import train_test_split\n",
    "from sklearn.preprocessing import StandardScaler\n",
    "from sklearn.metrics import classification_report, accuracy_score, confusion_matrix, cohen_kappa_score, recall_score, precision_score\n",
    "import tensorflow as tf\n",
    "import seaborn as sns\n",
    "import matplotlib.pyplot as plt\n",
    "from tensorflow.keras.models import Sequential\n",
    "from tensorflow.keras.layers import Dense, Dropout"
   ]
  },
  {
   "cell_type": "code",
   "execution_count": 44,
   "metadata": {},
   "outputs": [],
   "source": [
    "# Ler o arquivo CSV com as colunas na primeira linha\n",
    "data = pd.read_csv('../data/diabetes_prediction_weka.csv')"
   ]
  },
  {
   "cell_type": "code",
   "execution_count": 45,
   "metadata": {},
   "outputs": [],
   "source": [
    "data = data.drop('gender', axis=1)\n",
    "data = data.drop('smoking_history', axis=1)"
   ]
  },
  {
   "cell_type": "code",
   "execution_count": 46,
   "metadata": {},
   "outputs": [],
   "source": [
    "# Separar as características (features) e a classe (label)\n",
    "X = data.iloc[:, :-1].values  # Todas as colunas exceto a última\n",
    "y = data.iloc[:, -1].values   # Última coluna"
   ]
  },
  {
   "cell_type": "code",
   "execution_count": 47,
   "metadata": {},
   "outputs": [],
   "source": [
    "# Dividir os dados em conjunto de treino e teste\n",
    "X_train, X_test, y_train, y_test = train_test_split(X, y, test_size=0.2, random_state=42)"
   ]
  },
  {
   "cell_type": "code",
   "execution_count": 48,
   "metadata": {},
   "outputs": [],
   "source": [
    "# Normalizar os dados\n",
    "scaler = StandardScaler()\n",
    "X_train = scaler.fit_transform(X_train)\n",
    "X_test = scaler.transform(X_test)"
   ]
  },
  {
   "cell_type": "code",
   "execution_count": 49,
   "metadata": {},
   "outputs": [
    {
     "name": "stderr",
     "output_type": "stream",
     "text": [
      "c:\\Users\\joao\\AppData\\Local\\Programs\\Python\\Python312\\Lib\\site-packages\\keras\\src\\layers\\core\\dense.py:86: UserWarning: Do not pass an `input_shape`/`input_dim` argument to a layer. When using Sequential models, prefer using an `Input(shape)` object as the first layer in the model instead.\n",
      "  super().__init__(activity_regularizer=activity_regularizer, **kwargs)\n"
     ]
    }
   ],
   "source": [
    "# Construir o modelo Deep MLP\n",
    "model = Sequential([\n",
    "    Dense(128, input_dim=X_train.shape[1], activation='relu'),\n",
    "    Dropout(0.2),\n",
    "    Dense(64, activation='relu'),\n",
    "    Dropout(0.2),\n",
    "    Dense(32, activation='relu'),\n",
    "    Dense(1, activation='sigmoid')\n",
    "])"
   ]
  },
  {
   "cell_type": "code",
   "execution_count": 50,
   "metadata": {},
   "outputs": [],
   "source": [
    "# Compilar o modelo\n",
    "model.compile(optimizer='adam', loss='binary_crossentropy', metrics=['accuracy'])"
   ]
  },
  {
   "cell_type": "code",
   "execution_count": 51,
   "metadata": {},
   "outputs": [
    {
     "name": "stdout",
     "output_type": "stream",
     "text": [
      "Epoch 1/50\n",
      "\u001b[1m4200/4200\u001b[0m \u001b[32m━━━━━━━━━━━━━━━━━━━━\u001b[0m\u001b[37m\u001b[0m \u001b[1m16s\u001b[0m 3ms/step - accuracy: 0.8883 - loss: 0.2373 - val_accuracy: 0.9170 - val_loss: 0.1661\n",
      "Epoch 2/50\n",
      "\u001b[1m4200/4200\u001b[0m \u001b[32m━━━━━━━━━━━━━━━━━━━━\u001b[0m\u001b[37m\u001b[0m \u001b[1m13s\u001b[0m 3ms/step - accuracy: 0.9144 - loss: 0.1716 - val_accuracy: 0.9198 - val_loss: 0.1576\n",
      "Epoch 3/50\n",
      "\u001b[1m4200/4200\u001b[0m \u001b[32m━━━━━━━━━━━━━━━━━━━━\u001b[0m\u001b[37m\u001b[0m \u001b[1m12s\u001b[0m 3ms/step - accuracy: 0.9188 - loss: 0.1617 - val_accuracy: 0.9213 - val_loss: 0.1568\n",
      "Epoch 4/50\n",
      "\u001b[1m4200/4200\u001b[0m \u001b[32m━━━━━━━━━━━━━━━━━━━━\u001b[0m\u001b[37m\u001b[0m \u001b[1m12s\u001b[0m 3ms/step - accuracy: 0.9193 - loss: 0.1598 - val_accuracy: 0.9215 - val_loss: 0.1581\n",
      "Epoch 5/50\n",
      "\u001b[1m4200/4200\u001b[0m \u001b[32m━━━━━━━━━━━━━━━━━━━━\u001b[0m\u001b[37m\u001b[0m \u001b[1m12s\u001b[0m 3ms/step - accuracy: 0.9211 - loss: 0.1580 - val_accuracy: 0.9226 - val_loss: 0.1530\n",
      "Epoch 6/50\n",
      "\u001b[1m4200/4200\u001b[0m \u001b[32m━━━━━━━━━━━━━━━━━━━━\u001b[0m\u001b[37m\u001b[0m \u001b[1m12s\u001b[0m 3ms/step - accuracy: 0.9232 - loss: 0.1539 - val_accuracy: 0.9269 - val_loss: 0.1493\n",
      "Epoch 7/50\n",
      "\u001b[1m4200/4200\u001b[0m \u001b[32m━━━━━━━━━━━━━━━━━━━━\u001b[0m\u001b[37m\u001b[0m \u001b[1m12s\u001b[0m 3ms/step - accuracy: 0.9241 - loss: 0.1517 - val_accuracy: 0.9292 - val_loss: 0.1439\n",
      "Epoch 8/50\n",
      "\u001b[1m4200/4200\u001b[0m \u001b[32m━━━━━━━━━━━━━━━━━━━━\u001b[0m\u001b[37m\u001b[0m \u001b[1m12s\u001b[0m 3ms/step - accuracy: 0.9266 - loss: 0.1478 - val_accuracy: 0.9273 - val_loss: 0.1471\n",
      "Epoch 9/50\n",
      "\u001b[1m4200/4200\u001b[0m \u001b[32m━━━━━━━━━━━━━━━━━━━━\u001b[0m\u001b[37m\u001b[0m \u001b[1m12s\u001b[0m 3ms/step - accuracy: 0.9276 - loss: 0.1458 - val_accuracy: 0.9296 - val_loss: 0.1414\n",
      "Epoch 10/50\n",
      "\u001b[1m4200/4200\u001b[0m \u001b[32m━━━━━━━━━━━━━━━━━━━━\u001b[0m\u001b[37m\u001b[0m \u001b[1m12s\u001b[0m 3ms/step - accuracy: 0.9260 - loss: 0.1460 - val_accuracy: 0.9288 - val_loss: 0.1406\n",
      "Epoch 11/50\n",
      "\u001b[1m4200/4200\u001b[0m \u001b[32m━━━━━━━━━━━━━━━━━━━━\u001b[0m\u001b[37m\u001b[0m \u001b[1m12s\u001b[0m 3ms/step - accuracy: 0.9294 - loss: 0.1426 - val_accuracy: 0.9297 - val_loss: 0.1409\n",
      "Epoch 12/50\n",
      "\u001b[1m4200/4200\u001b[0m \u001b[32m━━━━━━━━━━━━━━━━━━━━\u001b[0m\u001b[37m\u001b[0m \u001b[1m12s\u001b[0m 3ms/step - accuracy: 0.9294 - loss: 0.1424 - val_accuracy: 0.9296 - val_loss: 0.1409\n",
      "Epoch 13/50\n",
      "\u001b[1m4200/4200\u001b[0m \u001b[32m━━━━━━━━━━━━━━━━━━━━\u001b[0m\u001b[37m\u001b[0m \u001b[1m12s\u001b[0m 3ms/step - accuracy: 0.9294 - loss: 0.1437 - val_accuracy: 0.9304 - val_loss: 0.1400\n",
      "Epoch 14/50\n",
      "\u001b[1m4200/4200\u001b[0m \u001b[32m━━━━━━━━━━━━━━━━━━━━\u001b[0m\u001b[37m\u001b[0m \u001b[1m13s\u001b[0m 3ms/step - accuracy: 0.9274 - loss: 0.1452 - val_accuracy: 0.9306 - val_loss: 0.1396\n",
      "Epoch 15/50\n",
      "\u001b[1m4200/4200\u001b[0m \u001b[32m━━━━━━━━━━━━━━━━━━━━\u001b[0m\u001b[37m\u001b[0m \u001b[1m12s\u001b[0m 3ms/step - accuracy: 0.9295 - loss: 0.1420 - val_accuracy: 0.9319 - val_loss: 0.1367\n",
      "Epoch 16/50\n",
      "\u001b[1m4200/4200\u001b[0m \u001b[32m━━━━━━━━━━━━━━━━━━━━\u001b[0m\u001b[37m\u001b[0m \u001b[1m12s\u001b[0m 3ms/step - accuracy: 0.9284 - loss: 0.1437 - val_accuracy: 0.9299 - val_loss: 0.1417\n",
      "Epoch 17/50\n",
      "\u001b[1m4200/4200\u001b[0m \u001b[32m━━━━━━━━━━━━━━━━━━━━\u001b[0m\u001b[37m\u001b[0m \u001b[1m12s\u001b[0m 3ms/step - accuracy: 0.9293 - loss: 0.1420 - val_accuracy: 0.9307 - val_loss: 0.1387\n",
      "Epoch 18/50\n",
      "\u001b[1m4200/4200\u001b[0m \u001b[32m━━━━━━━━━━━━━━━━━━━━\u001b[0m\u001b[37m\u001b[0m \u001b[1m12s\u001b[0m 3ms/step - accuracy: 0.9302 - loss: 0.1407 - val_accuracy: 0.9286 - val_loss: 0.1396\n",
      "Epoch 19/50\n",
      "\u001b[1m4200/4200\u001b[0m \u001b[32m━━━━━━━━━━━━━━━━━━━━\u001b[0m\u001b[37m\u001b[0m \u001b[1m13s\u001b[0m 3ms/step - accuracy: 0.9299 - loss: 0.1418 - val_accuracy: 0.9324 - val_loss: 0.1354\n",
      "Epoch 20/50\n",
      "\u001b[1m4200/4200\u001b[0m \u001b[32m━━━━━━━━━━━━━━━━━━━━\u001b[0m\u001b[37m\u001b[0m \u001b[1m13s\u001b[0m 3ms/step - accuracy: 0.9298 - loss: 0.1415 - val_accuracy: 0.9339 - val_loss: 0.1361\n",
      "Epoch 21/50\n",
      "\u001b[1m4200/4200\u001b[0m \u001b[32m━━━━━━━━━━━━━━━━━━━━\u001b[0m\u001b[37m\u001b[0m \u001b[1m13s\u001b[0m 3ms/step - accuracy: 0.9299 - loss: 0.1405 - val_accuracy: 0.9342 - val_loss: 0.1335\n",
      "Epoch 22/50\n",
      "\u001b[1m4200/4200\u001b[0m \u001b[32m━━━━━━━━━━━━━━━━━━━━\u001b[0m\u001b[37m\u001b[0m \u001b[1m13s\u001b[0m 3ms/step - accuracy: 0.9315 - loss: 0.1380 - val_accuracy: 0.9327 - val_loss: 0.1340\n",
      "Epoch 23/50\n",
      "\u001b[1m4200/4200\u001b[0m \u001b[32m━━━━━━━━━━━━━━━━━━━━\u001b[0m\u001b[37m\u001b[0m \u001b[1m12s\u001b[0m 3ms/step - accuracy: 0.9332 - loss: 0.1376 - val_accuracy: 0.9343 - val_loss: 0.1332\n",
      "Epoch 24/50\n",
      "\u001b[1m4200/4200\u001b[0m \u001b[32m━━━━━━━━━━━━━━━━━━━━\u001b[0m\u001b[37m\u001b[0m \u001b[1m12s\u001b[0m 3ms/step - accuracy: 0.9333 - loss: 0.1360 - val_accuracy: 0.9348 - val_loss: 0.1313\n",
      "Epoch 25/50\n",
      "\u001b[1m4200/4200\u001b[0m \u001b[32m━━━━━━━━━━━━━━━━━━━━\u001b[0m\u001b[37m\u001b[0m \u001b[1m12s\u001b[0m 3ms/step - accuracy: 0.9325 - loss: 0.1381 - val_accuracy: 0.9343 - val_loss: 0.1318\n",
      "Epoch 26/50\n",
      "\u001b[1m4200/4200\u001b[0m \u001b[32m━━━━━━━━━━━━━━━━━━━━\u001b[0m\u001b[37m\u001b[0m \u001b[1m12s\u001b[0m 3ms/step - accuracy: 0.9334 - loss: 0.1368 - val_accuracy: 0.9373 - val_loss: 0.1288\n",
      "Epoch 27/50\n",
      "\u001b[1m4200/4200\u001b[0m \u001b[32m━━━━━━━━━━━━━━━━━━━━\u001b[0m\u001b[37m\u001b[0m \u001b[1m12s\u001b[0m 3ms/step - accuracy: 0.9361 - loss: 0.1339 - val_accuracy: 0.9399 - val_loss: 0.1249\n",
      "Epoch 28/50\n",
      "\u001b[1m4200/4200\u001b[0m \u001b[32m━━━━━━━━━━━━━━━━━━━━\u001b[0m\u001b[37m\u001b[0m \u001b[1m12s\u001b[0m 3ms/step - accuracy: 0.9351 - loss: 0.1350 - val_accuracy: 0.9388 - val_loss: 0.1253\n",
      "Epoch 29/50\n",
      "\u001b[1m4200/4200\u001b[0m \u001b[32m━━━━━━━━━━━━━━━━━━━━\u001b[0m\u001b[37m\u001b[0m \u001b[1m12s\u001b[0m 3ms/step - accuracy: 0.9351 - loss: 0.1335 - val_accuracy: 0.9378 - val_loss: 0.1260\n",
      "Epoch 30/50\n",
      "\u001b[1m4200/4200\u001b[0m \u001b[32m━━━━━━━━━━━━━━━━━━━━\u001b[0m\u001b[37m\u001b[0m \u001b[1m12s\u001b[0m 3ms/step - accuracy: 0.9371 - loss: 0.1308 - val_accuracy: 0.9406 - val_loss: 0.1248\n",
      "Epoch 31/50\n",
      "\u001b[1m4200/4200\u001b[0m \u001b[32m━━━━━━━━━━━━━━━━━━━━\u001b[0m\u001b[37m\u001b[0m \u001b[1m12s\u001b[0m 3ms/step - accuracy: 0.9357 - loss: 0.1320 - val_accuracy: 0.9399 - val_loss: 0.1235\n",
      "Epoch 32/50\n",
      "\u001b[1m4200/4200\u001b[0m \u001b[32m━━━━━━━━━━━━━━━━━━━━\u001b[0m\u001b[37m\u001b[0m \u001b[1m12s\u001b[0m 3ms/step - accuracy: 0.9364 - loss: 0.1309 - val_accuracy: 0.9397 - val_loss: 0.1238\n",
      "Epoch 33/50\n",
      "\u001b[1m4200/4200\u001b[0m \u001b[32m━━━━━━━━━━━━━━━━━━━━\u001b[0m\u001b[37m\u001b[0m \u001b[1m12s\u001b[0m 3ms/step - accuracy: 0.9382 - loss: 0.1308 - val_accuracy: 0.9367 - val_loss: 0.1292\n",
      "Epoch 34/50\n",
      "\u001b[1m4200/4200\u001b[0m \u001b[32m━━━━━━━━━━━━━━━━━━━━\u001b[0m\u001b[37m\u001b[0m \u001b[1m12s\u001b[0m 3ms/step - accuracy: 0.9373 - loss: 0.1279 - val_accuracy: 0.9354 - val_loss: 0.1367\n",
      "Epoch 35/50\n",
      "\u001b[1m4200/4200\u001b[0m \u001b[32m━━━━━━━━━━━━━━━━━━━━\u001b[0m\u001b[37m\u001b[0m \u001b[1m12s\u001b[0m 3ms/step - accuracy: 0.9373 - loss: 0.1300 - val_accuracy: 0.9397 - val_loss: 0.1243\n",
      "Epoch 36/50\n",
      "\u001b[1m4200/4200\u001b[0m \u001b[32m━━━━━━━━━━━━━━━━━━━━\u001b[0m\u001b[37m\u001b[0m \u001b[1m12s\u001b[0m 3ms/step - accuracy: 0.9386 - loss: 0.1296 - val_accuracy: 0.9393 - val_loss: 0.1247\n",
      "Epoch 37/50\n",
      "\u001b[1m4200/4200\u001b[0m \u001b[32m━━━━━━━━━━━━━━━━━━━━\u001b[0m\u001b[37m\u001b[0m \u001b[1m12s\u001b[0m 3ms/step - accuracy: 0.9383 - loss: 0.1277 - val_accuracy: 0.9399 - val_loss: 0.1221\n",
      "Epoch 38/50\n",
      "\u001b[1m4200/4200\u001b[0m \u001b[32m━━━━━━━━━━━━━━━━━━━━\u001b[0m\u001b[37m\u001b[0m \u001b[1m12s\u001b[0m 3ms/step - accuracy: 0.9358 - loss: 0.1315 - val_accuracy: 0.9394 - val_loss: 0.1238\n",
      "Epoch 39/50\n",
      "\u001b[1m4200/4200\u001b[0m \u001b[32m━━━━━━━━━━━━━━━━━━━━\u001b[0m\u001b[37m\u001b[0m \u001b[1m12s\u001b[0m 3ms/step - accuracy: 0.9382 - loss: 0.1287 - val_accuracy: 0.9393 - val_loss: 0.1229\n",
      "Epoch 40/50\n",
      "\u001b[1m4200/4200\u001b[0m \u001b[32m━━━━━━━━━━━━━━━━━━━━\u001b[0m\u001b[37m\u001b[0m \u001b[1m12s\u001b[0m 3ms/step - accuracy: 0.9369 - loss: 0.1298 - val_accuracy: 0.9408 - val_loss: 0.1193\n",
      "Epoch 41/50\n",
      "\u001b[1m4200/4200\u001b[0m \u001b[32m━━━━━━━━━━━━━━━━━━━━\u001b[0m\u001b[37m\u001b[0m \u001b[1m12s\u001b[0m 3ms/step - accuracy: 0.9394 - loss: 0.1270 - val_accuracy: 0.9407 - val_loss: 0.1231\n",
      "Epoch 42/50\n",
      "\u001b[1m4200/4200\u001b[0m \u001b[32m━━━━━━━━━━━━━━━━━━━━\u001b[0m\u001b[37m\u001b[0m \u001b[1m12s\u001b[0m 3ms/step - accuracy: 0.9379 - loss: 0.1284 - val_accuracy: 0.9407 - val_loss: 0.1212\n",
      "Epoch 43/50\n",
      "\u001b[1m4200/4200\u001b[0m \u001b[32m━━━━━━━━━━━━━━━━━━━━\u001b[0m\u001b[37m\u001b[0m \u001b[1m12s\u001b[0m 3ms/step - accuracy: 0.9378 - loss: 0.1287 - val_accuracy: 0.9409 - val_loss: 0.1215\n",
      "Epoch 44/50\n",
      "\u001b[1m4200/4200\u001b[0m \u001b[32m━━━━━━━━━━━━━━━━━━━━\u001b[0m\u001b[37m\u001b[0m \u001b[1m12s\u001b[0m 3ms/step - accuracy: 0.9387 - loss: 0.1278 - val_accuracy: 0.9420 - val_loss: 0.1192\n",
      "Epoch 45/50\n",
      "\u001b[1m4200/4200\u001b[0m \u001b[32m━━━━━━━━━━━━━━━━━━━━\u001b[0m\u001b[37m\u001b[0m \u001b[1m12s\u001b[0m 3ms/step - accuracy: 0.9402 - loss: 0.1279 - val_accuracy: 0.9433 - val_loss: 0.1204\n",
      "Epoch 46/50\n",
      "\u001b[1m4200/4200\u001b[0m \u001b[32m━━━━━━━━━━━━━━━━━━━━\u001b[0m\u001b[37m\u001b[0m \u001b[1m12s\u001b[0m 3ms/step - accuracy: 0.9397 - loss: 0.1263 - val_accuracy: 0.9441 - val_loss: 0.1190\n",
      "Epoch 47/50\n",
      "\u001b[1m4200/4200\u001b[0m \u001b[32m━━━━━━━━━━━━━━━━━━━━\u001b[0m\u001b[37m\u001b[0m \u001b[1m12s\u001b[0m 3ms/step - accuracy: 0.9399 - loss: 0.1246 - val_accuracy: 0.9410 - val_loss: 0.1193\n",
      "Epoch 48/50\n",
      "\u001b[1m4200/4200\u001b[0m \u001b[32m━━━━━━━━━━━━━━━━━━━━\u001b[0m\u001b[37m\u001b[0m \u001b[1m12s\u001b[0m 3ms/step - accuracy: 0.9393 - loss: 0.1270 - val_accuracy: 0.9426 - val_loss: 0.1177\n",
      "Epoch 49/50\n",
      "\u001b[1m4200/4200\u001b[0m \u001b[32m━━━━━━━━━━━━━━━━━━━━\u001b[0m\u001b[37m\u001b[0m \u001b[1m12s\u001b[0m 3ms/step - accuracy: 0.9400 - loss: 0.1272 - val_accuracy: 0.9427 - val_loss: 0.1167\n",
      "Epoch 50/50\n",
      "\u001b[1m4200/4200\u001b[0m \u001b[32m━━━━━━━━━━━━━━━━━━━━\u001b[0m\u001b[37m\u001b[0m \u001b[1m12s\u001b[0m 3ms/step - accuracy: 0.9410 - loss: 0.1252 - val_accuracy: 0.9423 - val_loss: 0.1285\n"
     ]
    },
    {
     "data": {
      "text/plain": [
       "<keras.src.callbacks.history.History at 0x1a8950522a0>"
      ]
     },
     "execution_count": 51,
     "metadata": {},
     "output_type": "execute_result"
    }
   ],
   "source": [
    "# Treinar o modelo\n",
    "model.fit(X_train, y_train, epochs=50, batch_size=32, validation_data=(X_test, y_test))"
   ]
  },
  {
   "cell_type": "code",
   "execution_count": 52,
   "metadata": {},
   "outputs": [
    {
     "name": "stdout",
     "output_type": "stream",
     "text": [
      "\u001b[1m1050/1050\u001b[0m \u001b[32m━━━━━━━━━━━━━━━━━━━━\u001b[0m\u001b[37m\u001b[0m \u001b[1m2s\u001b[0m 2ms/step\n"
     ]
    }
   ],
   "source": [
    "# Fazer previsões\n",
    "predictions = model.predict(X_test).round()"
   ]
  },
  {
   "cell_type": "code",
   "execution_count": 53,
   "metadata": {},
   "outputs": [
    {
     "name": "stdout",
     "output_type": "stream",
     "text": [
      "              precision    recall  f1-score   support\n",
      "\n",
      "           0       0.93      0.97      0.95     18112\n",
      "           1       0.96      0.91      0.94     15488\n",
      "\n",
      "    accuracy                           0.94     33600\n",
      "   macro avg       0.94      0.94      0.94     33600\n",
      "weighted avg       0.94      0.94      0.94     33600\n",
      "\n",
      "Accuracy: 0.9422916666666666\n"
     ]
    }
   ],
   "source": [
    "# Avaliação do modelo\n",
    "print(classification_report(y_test, predictions))\n",
    "print(\"Accuracy:\", accuracy_score(y_test, predictions))"
   ]
  },
  {
   "cell_type": "code",
   "execution_count": 54,
   "metadata": {},
   "outputs": [],
   "source": [
    "# Matriz de confusão e Índice Kappa\n",
    "conf_matrix = confusion_matrix(y_test, predictions)\n",
    "kappa_score = cohen_kappa_score(y_test, predictions)"
   ]
  },
  {
   "cell_type": "code",
   "execution_count": 55,
   "metadata": {},
   "outputs": [
    {
     "name": "stdout",
     "output_type": "stream",
     "text": [
      "Matriz de Confusão:\n",
      "[[17494   618]\n",
      " [ 1321 14167]]\n",
      "Índice Kappa: 0.8834920287935121\n"
     ]
    }
   ],
   "source": [
    "print(\"Matriz de Confusão:\")\n",
    "print(conf_matrix)\n",
    "print(\"Índice Kappa:\", kappa_score)"
   ]
  },
  {
   "cell_type": "code",
   "execution_count": 56,
   "metadata": {},
   "outputs": [
    {
     "data": {
      "image/png": "[encoded data removed]",
      "text/plain": [
       "<Figure size 600x400 with 2 Axes>"
      ]
     },
     "metadata": {},
     "output_type": "display_data"
    }
   ],
   "source": [
    "# Criar um plot da matriz de confusão usando seaborn\n",
    "plt.figure(figsize=(6, 4))\n",
    "sns.heatmap(conf_matrix, annot=True, fmt='d', cmap='Blues', xticklabels=['Classe 0', 'Classe 1'], yticklabels=['Classe 0', 'Classe 1'])\n",
    "plt.xlabel('Previsões')\n",
    "plt.ylabel('Real')\n",
    "plt.title('Matriz de Confusão Deep MLP')\n",
    "plt.show()"
   ]
  },
  {
   "cell_type": "markdown",
   "metadata": {},
   "source": [
    "Aplicando outras métricas"
   ]
  },
  {
   "cell_type": "markdown",
   "metadata": {},
   "source": [
    "1 - Precisão"
   ]
  },
  {
   "cell_type": "code",
   "execution_count": 57,
   "metadata": {},
   "outputs": [
    {
     "name": "stdout",
     "output_type": "stream",
     "text": [
      "Precisão: 0.9582008792695299\n"
     ]
    }
   ],
   "source": [
    "precision = precision_score (y_test , predictions)\n",
    "print(\"Precisão:\", precision)"
   ]
  },
  {
   "cell_type": "markdown",
   "metadata": {},
   "source": [
    "2 - Sensibilidade"
   ]
  },
  {
   "cell_type": "code",
   "execution_count": 58,
   "metadata": {},
   "outputs": [
    {
     "name": "stdout",
     "output_type": "stream",
     "text": [
      "Sensibilidade: 0.9147081611570248\n"
     ]
    }
   ],
   "source": [
    "sensitivity = recall_score(y_test, predictions)\n",
    "print(\"Sensibilidade:\", sensitivity)"
   ]
  },
  {
   "cell_type": "markdown",
   "metadata": {},
   "source": [
    "3 - Especifidade"
   ]
  },
  {
   "cell_type": "code",
   "execution_count": 59,
   "metadata": {},
   "outputs": [
    {
     "name": "stdout",
     "output_type": "stream",
     "text": [
      "Especificidade: 0.9658789752650176\n"
     ]
    }
   ],
   "source": [
    "#true negatives\n",
    "TN = conf_matrix[0][0]\n",
    "#false positives\n",
    "FP = conf_matrix[0][1]\n",
    "\n",
    "specificity = TN/(TN+FP)\n",
    "print(\"Especificidade:\", specificity)"
   ]
  }
 ],
 "metadata": {
  "kernelspec": {
   "display_name": "Python 3",
   "language": "python",
   "name": "python3"
  },
  "language_info": {
   "codemirror_mode": {
    "name": "ipython",
    "version": 3
   },
   "file_extension": ".py",
   "mimetype": "text/x-python",
   "name": "python",
   "nbconvert_exporter": "python",
   "pygments_lexer": "ipython3",
   "version": "3.12.3"
  }
 },
 "nbformat": 4,
 "nbformat_minor": 2
}
