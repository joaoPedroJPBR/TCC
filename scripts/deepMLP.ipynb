{
 "cells": [
  {
   "cell_type": "code",
   "execution_count": 44,
   "metadata": {},
   "outputs": [],
   "source": [
    "import tensorflow as tf\n",
    "import seaborn as sns\n",
    "import matplotlib.pyplot as plt\n",
    "from tensorflow.keras.models import Sequential\n",
    "from tensorflow.keras.layers import Dense, Dropout\n",
    "import pandas as pd\n",
    "from sklearn.model_selection import train_test_split\n",
    "from sklearn.preprocessing import StandardScaler\n",
    "from sklearn.metrics import classification_report, accuracy_score, confusion_matrix, cohen_kappa_score"
   ]
  },
  {
   "cell_type": "code",
   "execution_count": 27,
   "metadata": {},
   "outputs": [],
   "source": [
    "# Ler o arquivo CSV com as colunas na primeira linha\n",
    "data = pd.read_csv('../data/diabetes_prediction_dataset.csv')"
   ]
  },
  {
   "cell_type": "code",
   "execution_count": 28,
   "metadata": {},
   "outputs": [],
   "source": [
    "data = data.drop('gender', axis=1)\n",
    "data = data.drop('smoking_history', axis=1)"
   ]
  },
  {
   "cell_type": "code",
   "execution_count": 29,
   "metadata": {},
   "outputs": [],
   "source": [
    "# Separar as características (features) e a classe (label)\n",
    "X = data.iloc[:, :-1].values  # Todas as colunas exceto a última\n",
    "y = data.iloc[:, -1].values   # Última coluna"
   ]
  },
  {
   "cell_type": "code",
   "execution_count": 30,
   "metadata": {},
   "outputs": [],
   "source": [
    "# Dividir os dados em conjunto de treino e teste\n",
    "X_train, X_test, y_train, y_test = train_test_split(X, y, test_size=0.2, random_state=42)"
   ]
  },
  {
   "cell_type": "code",
   "execution_count": 31,
   "metadata": {},
   "outputs": [],
   "source": [
    "# Normalizar os dados\n",
    "scaler = StandardScaler()\n",
    "X_train = scaler.fit_transform(X_train)\n",
    "X_test = scaler.transform(X_test)"
   ]
  },
  {
   "cell_type": "code",
   "execution_count": 32,
   "metadata": {},
   "outputs": [],
   "source": [
    "# Construir o modelo Deep MLP\n",
    "model = Sequential([\n",
    "    Dense(128, input_dim=X_train.shape[1], activation='relu'),\n",
    "    Dropout(0.2),\n",
    "    Dense(64, activation='relu'),\n",
    "    Dropout(0.2),\n",
    "    Dense(32, activation='relu'),\n",
    "    Dense(1, activation='sigmoid')\n",
    "])"
   ]
  },
  {
   "cell_type": "code",
   "execution_count": 33,
   "metadata": {},
   "outputs": [],
   "source": [
    "# Compilar o modelo\n",
    "model.compile(optimizer='adam', loss='binary_crossentropy', metrics=['accuracy'])"
   ]
  },
  {
   "cell_type": "code",
   "execution_count": 34,
   "metadata": {},
   "outputs": [
    {
     "name": "stdout",
     "output_type": "stream",
     "text": [
      "Epoch 1/50\n",
      "WARNING:tensorflow:From c:\\Users\\joao\\AppData\\Local\\Programs\\Python\\Python39\\lib\\site-packages\\keras\\src\\utils\\tf_utils.py:492: The name tf.ragged.RaggedTensorValue is deprecated. Please use tf.compat.v1.ragged.RaggedTensorValue instead.\n",
      "\n"
     ]
    },
    {
     "name": "stdout",
     "output_type": "stream",
     "text": [
      "WARNING:tensorflow:From c:\\Users\\joao\\AppData\\Local\\Programs\\Python\\Python39\\lib\\site-packages\\keras\\src\\engine\\base_layer_utils.py:384: The name tf.executing_eagerly_outside_functions is deprecated. Please use tf.compat.v1.executing_eagerly_outside_functions instead.\n",
      "\n",
      "2500/2500 [==============================] - 11s 4ms/step - loss: 0.1160 - accuracy: 0.9599 - val_loss: 0.0908 - val_accuracy: 0.9686\n",
      "Epoch 2/50\n",
      "2500/2500 [==============================] - 17s 7ms/step - loss: 0.0916 - accuracy: 0.9688 - val_loss: 0.0860 - val_accuracy: 0.9707\n",
      "Epoch 3/50\n",
      "2500/2500 [==============================] - 15s 6ms/step - loss: 0.0883 - accuracy: 0.9697 - val_loss: 0.0857 - val_accuracy: 0.9711\n",
      "Epoch 4/50\n",
      "2500/2500 [==============================] - 15s 6ms/step - loss: 0.0873 - accuracy: 0.9700 - val_loss: 0.0839 - val_accuracy: 0.9716\n",
      "Epoch 5/50\n",
      "2500/2500 [==============================] - 14s 6ms/step - loss: 0.0860 - accuracy: 0.9706 - val_loss: 0.0825 - val_accuracy: 0.9721\n",
      "Epoch 6/50\n",
      "2500/2500 [==============================] - 7s 3ms/step - loss: 0.0857 - accuracy: 0.9707 - val_loss: 0.0824 - val_accuracy: 0.9718\n",
      "Epoch 7/50\n",
      "2500/2500 [==============================] - 8s 3ms/step - loss: 0.0852 - accuracy: 0.9709 - val_loss: 0.0821 - val_accuracy: 0.9719\n",
      "Epoch 8/50\n",
      "2500/2500 [==============================] - 8s 3ms/step - loss: 0.0846 - accuracy: 0.9709 - val_loss: 0.0860 - val_accuracy: 0.9709\n",
      "Epoch 9/50\n",
      "2500/2500 [==============================] - 8s 3ms/step - loss: 0.0850 - accuracy: 0.9711 - val_loss: 0.0822 - val_accuracy: 0.9720\n",
      "Epoch 10/50\n",
      "2500/2500 [==============================] - 8s 3ms/step - loss: 0.0846 - accuracy: 0.9713 - val_loss: 0.0837 - val_accuracy: 0.9711\n",
      "Epoch 11/50\n",
      "2500/2500 [==============================] - 8s 3ms/step - loss: 0.0843 - accuracy: 0.9712 - val_loss: 0.0832 - val_accuracy: 0.9717\n",
      "Epoch 12/50\n",
      "2500/2500 [==============================] - 8s 3ms/step - loss: 0.0843 - accuracy: 0.9714 - val_loss: 0.0818 - val_accuracy: 0.9721\n",
      "Epoch 13/50\n",
      "2500/2500 [==============================] - 8s 3ms/step - loss: 0.0837 - accuracy: 0.9713 - val_loss: 0.0823 - val_accuracy: 0.9717\n",
      "Epoch 14/50\n",
      "2500/2500 [==============================] - 10s 4ms/step - loss: 0.0838 - accuracy: 0.9715 - val_loss: 0.0818 - val_accuracy: 0.9718\n",
      "Epoch 15/50\n",
      "2500/2500 [==============================] - 18s 7ms/step - loss: 0.0838 - accuracy: 0.9712 - val_loss: 0.0818 - val_accuracy: 0.9718\n",
      "Epoch 16/50\n",
      "2500/2500 [==============================] - 17s 7ms/step - loss: 0.0837 - accuracy: 0.9713 - val_loss: 0.0827 - val_accuracy: 0.9715\n",
      "Epoch 17/50\n",
      "2500/2500 [==============================] - 18s 7ms/step - loss: 0.0843 - accuracy: 0.9711 - val_loss: 0.0840 - val_accuracy: 0.9718\n",
      "Epoch 18/50\n",
      "2500/2500 [==============================] - 23s 9ms/step - loss: 0.0834 - accuracy: 0.9716 - val_loss: 0.0834 - val_accuracy: 0.9711\n",
      "Epoch 19/50\n",
      "2500/2500 [==============================] - 24s 9ms/step - loss: 0.0837 - accuracy: 0.9714 - val_loss: 0.0826 - val_accuracy: 0.9715\n",
      "Epoch 20/50\n",
      "2500/2500 [==============================] - 19s 8ms/step - loss: 0.0838 - accuracy: 0.9715 - val_loss: 0.0823 - val_accuracy: 0.9719\n",
      "Epoch 21/50\n",
      "2500/2500 [==============================] - 22s 9ms/step - loss: 0.0839 - accuracy: 0.9716 - val_loss: 0.0818 - val_accuracy: 0.9721\n",
      "Epoch 22/50\n",
      "2500/2500 [==============================] - 22s 9ms/step - loss: 0.0834 - accuracy: 0.9716 - val_loss: 0.0817 - val_accuracy: 0.9720\n",
      "Epoch 23/50\n",
      "2500/2500 [==============================] - 22s 9ms/step - loss: 0.0835 - accuracy: 0.9715 - val_loss: 0.0821 - val_accuracy: 0.9719\n",
      "Epoch 24/50\n",
      "2500/2500 [==============================] - 21s 9ms/step - loss: 0.0837 - accuracy: 0.9714 - val_loss: 0.0816 - val_accuracy: 0.9721\n",
      "Epoch 25/50\n",
      "2500/2500 [==============================] - 21s 8ms/step - loss: 0.0833 - accuracy: 0.9714 - val_loss: 0.0817 - val_accuracy: 0.9720\n",
      "Epoch 26/50\n",
      "2500/2500 [==============================] - 19s 7ms/step - loss: 0.0834 - accuracy: 0.9714 - val_loss: 0.0818 - val_accuracy: 0.9719\n",
      "Epoch 27/50\n",
      "2500/2500 [==============================] - 21s 8ms/step - loss: 0.0835 - accuracy: 0.9715 - val_loss: 0.0824 - val_accuracy: 0.9715\n",
      "Epoch 28/50\n",
      "2500/2500 [==============================] - 21s 8ms/step - loss: 0.0829 - accuracy: 0.9715 - val_loss: 0.0819 - val_accuracy: 0.9721\n",
      "Epoch 29/50\n",
      "2500/2500 [==============================] - 21s 8ms/step - loss: 0.0832 - accuracy: 0.9717 - val_loss: 0.0815 - val_accuracy: 0.9721\n",
      "Epoch 30/50\n",
      "2500/2500 [==============================] - 21s 8ms/step - loss: 0.0836 - accuracy: 0.9716 - val_loss: 0.0814 - val_accuracy: 0.9721\n",
      "Epoch 31/50\n",
      "2500/2500 [==============================] - 18s 7ms/step - loss: 0.0831 - accuracy: 0.9716 - val_loss: 0.0817 - val_accuracy: 0.9719\n",
      "Epoch 32/50\n",
      "2500/2500 [==============================] - 20s 8ms/step - loss: 0.0828 - accuracy: 0.9716 - val_loss: 0.0816 - val_accuracy: 0.9722\n",
      "Epoch 33/50\n",
      "2500/2500 [==============================] - 21s 9ms/step - loss: 0.0831 - accuracy: 0.9715 - val_loss: 0.0815 - val_accuracy: 0.9722\n",
      "Epoch 34/50\n",
      "2500/2500 [==============================] - 24s 10ms/step - loss: 0.0832 - accuracy: 0.9718 - val_loss: 0.0817 - val_accuracy: 0.9718\n",
      "Epoch 35/50\n",
      "2500/2500 [==============================] - 26s 10ms/step - loss: 0.0829 - accuracy: 0.9716 - val_loss: 0.0815 - val_accuracy: 0.9724\n",
      "Epoch 36/50\n",
      "2500/2500 [==============================] - 26s 10ms/step - loss: 0.0830 - accuracy: 0.9716 - val_loss: 0.0814 - val_accuracy: 0.9723\n",
      "Epoch 37/50\n",
      "2500/2500 [==============================] - 25s 10ms/step - loss: 0.0829 - accuracy: 0.9717 - val_loss: 0.0835 - val_accuracy: 0.9718\n",
      "Epoch 38/50\n",
      "2500/2500 [==============================] - 20s 8ms/step - loss: 0.0828 - accuracy: 0.9717 - val_loss: 0.0826 - val_accuracy: 0.9718\n",
      "Epoch 39/50\n",
      "2500/2500 [==============================] - 21s 8ms/step - loss: 0.0829 - accuracy: 0.9716 - val_loss: 0.0868 - val_accuracy: 0.9710\n",
      "Epoch 40/50\n",
      "2500/2500 [==============================] - 20s 8ms/step - loss: 0.0833 - accuracy: 0.9714 - val_loss: 0.0816 - val_accuracy: 0.9724\n",
      "Epoch 41/50\n",
      "2500/2500 [==============================] - 21s 8ms/step - loss: 0.0830 - accuracy: 0.9718 - val_loss: 0.0817 - val_accuracy: 0.9721\n",
      "Epoch 42/50\n",
      "2500/2500 [==============================] - 19s 8ms/step - loss: 0.0830 - accuracy: 0.9717 - val_loss: 0.0815 - val_accuracy: 0.9724\n",
      "Epoch 43/50\n",
      "2500/2500 [==============================] - 23s 9ms/step - loss: 0.0828 - accuracy: 0.9716 - val_loss: 0.0814 - val_accuracy: 0.9721\n",
      "Epoch 44/50\n",
      "2500/2500 [==============================] - 23s 9ms/step - loss: 0.0826 - accuracy: 0.9718 - val_loss: 0.0815 - val_accuracy: 0.9721\n",
      "Epoch 45/50\n",
      "2500/2500 [==============================] - 18s 7ms/step - loss: 0.0824 - accuracy: 0.9718 - val_loss: 0.0815 - val_accuracy: 0.9722\n",
      "Epoch 46/50\n",
      "2500/2500 [==============================] - 19s 7ms/step - loss: 0.0828 - accuracy: 0.9717 - val_loss: 0.0817 - val_accuracy: 0.9724\n",
      "Epoch 47/50\n",
      "2500/2500 [==============================] - 24s 10ms/step - loss: 0.0827 - accuracy: 0.9718 - val_loss: 0.0819 - val_accuracy: 0.9722\n",
      "Epoch 48/50\n",
      "2500/2500 [==============================] - 23s 9ms/step - loss: 0.0830 - accuracy: 0.9717 - val_loss: 0.0815 - val_accuracy: 0.9718\n",
      "Epoch 49/50\n",
      "2500/2500 [==============================] - 20s 8ms/step - loss: 0.0827 - accuracy: 0.9717 - val_loss: 0.0814 - val_accuracy: 0.9721\n",
      "Epoch 50/50\n",
      "2500/2500 [==============================] - 21s 9ms/step - loss: 0.0827 - accuracy: 0.9719 - val_loss: 0.0817 - val_accuracy: 0.9722\n"
     ]
    },
    {
     "data": {
      "text/plain": [
       "<keras.src.callbacks.History at 0x1e526912ee0>"
      ]
     },
     "execution_count": 34,
     "metadata": {},
     "output_type": "execute_result"
    }
   ],
   "source": [
    "# Treinar o modelo\n",
    "model.fit(X_train, y_train, epochs=50, batch_size=32, validation_data=(X_test, y_test))"
   ]
  },
  {
   "cell_type": "code",
   "execution_count": 35,
   "metadata": {},
   "outputs": [
    {
     "name": "stdout",
     "output_type": "stream",
     "text": [
      "625/625 [==============================] - 2s 2ms/step\n"
     ]
    }
   ],
   "source": [
    "# Fazer previsões\n",
    "predictions = model.predict(X_test).round()"
   ]
  },
  {
   "cell_type": "code",
   "execution_count": 36,
   "metadata": {},
   "outputs": [
    {
     "name": "stdout",
     "output_type": "stream",
     "text": [
      "              precision    recall  f1-score   support\n",
      "\n",
      "           0       0.97      1.00      0.99     18292\n",
      "           1       0.99      0.68      0.81      1708\n",
      "\n",
      "    accuracy                           0.97     20000\n",
      "   macro avg       0.98      0.84      0.90     20000\n",
      "weighted avg       0.97      0.97      0.97     20000\n",
      "\n",
      "Accuracy: 0.9722\n"
     ]
    }
   ],
   "source": [
    "# Avaliação do modelo\n",
    "print(classification_report(y_test, predictions))\n",
    "print(\"Accuracy:\", accuracy_score(y_test, predictions))"
   ]
  },
  {
   "cell_type": "code",
   "execution_count": 37,
   "metadata": {},
   "outputs": [],
   "source": [
    "# Matriz de confusão e Índice Kappa\n",
    "conf_matrix = confusion_matrix(y_test, predictions)\n",
    "kappa_score = cohen_kappa_score(y_test, predictions)"
   ]
  },
  {
   "cell_type": "code",
   "execution_count": 38,
   "metadata": {},
   "outputs": [
    {
     "name": "stdout",
     "output_type": "stream",
     "text": [
      "Matriz de Confusão:\n",
      "[[18284     8]\n",
      " [  548  1160]]\n",
      "Índice Kappa: 0.7922664536924563\n"
     ]
    }
   ],
   "source": [
    "print(\"Matriz de Confusão:\")\n",
    "print(conf_matrix)\n",
    "print(\"Índice Kappa:\", kappa_score)"
   ]
  },
  {
   "cell_type": "code",
   "execution_count": 46,
   "metadata": {},
   "outputs": [
    {
     "data": {
      "image/png": "[encoded data removed]",
      "text/plain": [
       "<Figure size 600x400 with 2 Axes>"
      ]
     },
     "metadata": {},
     "output_type": "display_data"
    }
   ],
   "source": [
    "# Criar um plot da matriz de confusão usando seaborn\n",
    "plt.figure(figsize=(6, 4))\n",
    "sns.heatmap(conf_matrix, annot=True, fmt='d', cmap='Blues', xticklabels=['Classe 0', 'Classe 1'], yticklabels=['Classe 0', 'Classe 1'])\n",
    "plt.xlabel('Previsões')\n",
    "plt.ylabel('Real')\n",
    "plt.title('Matriz de Confusão Deep MLP')\n",
    "plt.show()"
   ]
  }
 ],
 "metadata": {
  "kernelspec": {
   "display_name": "Python 3",
   "language": "python",
   "name": "python3"
  },
  "language_info": {
   "codemirror_mode": {
    "name": "ipython",
    "version": 3
   },
   "file_extension": ".py",
   "mimetype": "text/x-python",
   "name": "python",
   "nbconvert_exporter": "python",
   "pygments_lexer": "ipython3",
   "version": "3.9.0"
  }
 },
 "nbformat": 4,
 "nbformat_minor": 2
}
